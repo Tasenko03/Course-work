{
 "cells": [
  {
   "cell_type": "code",
   "execution_count": 194,
   "id": "7ed29220",
   "metadata": {},
   "outputs": [],
   "source": [
    "import pandas as pd"
   ]
  },
  {
   "cell_type": "code",
   "execution_count": 195,
   "id": "bcb8620d",
   "metadata": {},
   "outputs": [],
   "source": [
    "with open(\"C:/Users/Ольга/patient_model.txt\", encoding='utf-8') as f:\n",
    "    patients_m = f.read()\n",
    "    patients_m = patients_m.split(sep=',')"
   ]
  },
  {
   "cell_type": "code",
   "execution_count": 196,
   "id": "ecf72798",
   "metadata": {},
   "outputs": [],
   "source": [
    "with open(\"C:/Users/Ольга/control_model.txt\", encoding='utf-8') as f:\n",
    "    control_m = f.read()\n",
    "    control_m = control_m.split(sep=',')"
   ]
  },
  {
   "cell_type": "code",
   "execution_count": 197,
   "id": "b2fac401",
   "metadata": {},
   "outputs": [],
   "source": [
    "def calculate_1(file):\n",
    "    percent_good = []\n",
    "    percent_bad = []\n",
    "    for elem in file:\n",
    "        if elem in good:\n",
    "            percent_good.append(elem)\n",
    "        elif elem in bad:\n",
    "            percent_bad.append(elem)\n",
    "\n",
    "    per_cent_good = len(percent_good) / len(file) * 100\n",
    "    per_cent_bad = len(percent_bad) / len(file) * 100\n",
    "    return round(per_cent_good, 2), round(per_cent_bad, 2)"
   ]
  },
  {
   "cell_type": "code",
   "execution_count": 198,
   "id": "937df1e3",
   "metadata": {},
   "outputs": [],
   "source": [
    "pos_patients = []\n",
    "neg_patients = []\n",
    "for elem in patients_m:\n",
    "    a, b = calculate_1(elem.split(sep=' '))\n",
    "    pos_patients.append(a)\n",
    "    neg_patients.append(b)"
   ]
  },
  {
   "cell_type": "code",
   "execution_count": 199,
   "id": "0fffc691",
   "metadata": {},
   "outputs": [],
   "source": [
    "pos_conrol = []\n",
    "neg_conrol = []\n",
    "for elem in control_m:\n",
    "    a, b = calculate_1(elem.split(sep=' '))\n",
    "    pos_conrol.append(a)\n",
    "    neg_conrol.append(b)"
   ]
  },
  {
   "cell_type": "markdown",
   "id": "16b2f499",
   "metadata": {},
   "source": [
    "# DATA"
   ]
  },
  {
   "cell_type": "code",
   "execution_count": 200,
   "id": "ee7b5779",
   "metadata": {},
   "outputs": [],
   "source": [
    "from sklearn.model_selection import train_test_split, cross_val_score, GridSearchCV\n",
    "from sklearn.ensemble import RandomForestClassifier\n",
    "from sklearn.metrics import accuracy_score, precision_score, recall_score, confusion_matrix\n",
    "from sklearn.linear_model import LogisticRegression"
   ]
  },
  {
   "cell_type": "code",
   "execution_count": 204,
   "id": "8022be96",
   "metadata": {},
   "outputs": [
    {
     "data": {
      "text/html": [
       "<div>\n",
       "<style scoped>\n",
       "    .dataframe tbody tr th:only-of-type {\n",
       "        vertical-align: middle;\n",
       "    }\n",
       "\n",
       "    .dataframe tbody tr th {\n",
       "        vertical-align: top;\n",
       "    }\n",
       "\n",
       "    .dataframe thead th {\n",
       "        text-align: right;\n",
       "    }\n",
       "</style>\n",
       "<table border=\"1\" class=\"dataframe\">\n",
       "  <thead>\n",
       "    <tr style=\"text-align: right;\">\n",
       "      <th></th>\n",
       "      <th>group1</th>\n",
       "      <th>age</th>\n",
       "      <th>years of education</th>\n",
       "      <th>errors</th>\n",
       "      <th>...=</th>\n",
       "      <th>...*</th>\n",
       "      <th>positive voc</th>\n",
       "      <th>negative voc</th>\n",
       "      <th>sex_male</th>\n",
       "      <th>education_higher.unfinished</th>\n",
       "      <th>education_secondary</th>\n",
       "      <th>education_vocational</th>\n",
       "      <th>education_vocational.unfinished</th>\n",
       "      <th>education_ученая степень</th>\n",
       "    </tr>\n",
       "  </thead>\n",
       "  <tbody>\n",
       "    <tr>\n",
       "      <th>0</th>\n",
       "      <td>0</td>\n",
       "      <td>36</td>\n",
       "      <td>17</td>\n",
       "      <td>0</td>\n",
       "      <td>0</td>\n",
       "      <td>0</td>\n",
       "      <td>3.03</td>\n",
       "      <td>0.0</td>\n",
       "      <td>0</td>\n",
       "      <td>0</td>\n",
       "      <td>0</td>\n",
       "      <td>0</td>\n",
       "      <td>0</td>\n",
       "      <td>0</td>\n",
       "    </tr>\n",
       "    <tr>\n",
       "      <th>1</th>\n",
       "      <td>0</td>\n",
       "      <td>27</td>\n",
       "      <td>18</td>\n",
       "      <td>0</td>\n",
       "      <td>0</td>\n",
       "      <td>0</td>\n",
       "      <td>0.00</td>\n",
       "      <td>0.0</td>\n",
       "      <td>0</td>\n",
       "      <td>0</td>\n",
       "      <td>0</td>\n",
       "      <td>0</td>\n",
       "      <td>0</td>\n",
       "      <td>0</td>\n",
       "    </tr>\n",
       "    <tr>\n",
       "      <th>2</th>\n",
       "      <td>0</td>\n",
       "      <td>20</td>\n",
       "      <td>14</td>\n",
       "      <td>0</td>\n",
       "      <td>0</td>\n",
       "      <td>0</td>\n",
       "      <td>0.00</td>\n",
       "      <td>0.0</td>\n",
       "      <td>1</td>\n",
       "      <td>0</td>\n",
       "      <td>0</td>\n",
       "      <td>0</td>\n",
       "      <td>0</td>\n",
       "      <td>0</td>\n",
       "    </tr>\n",
       "    <tr>\n",
       "      <th>3</th>\n",
       "      <td>0</td>\n",
       "      <td>21</td>\n",
       "      <td>14</td>\n",
       "      <td>1</td>\n",
       "      <td>0</td>\n",
       "      <td>1</td>\n",
       "      <td>9.09</td>\n",
       "      <td>0.0</td>\n",
       "      <td>0</td>\n",
       "      <td>0</td>\n",
       "      <td>0</td>\n",
       "      <td>0</td>\n",
       "      <td>0</td>\n",
       "      <td>0</td>\n",
       "    </tr>\n",
       "    <tr>\n",
       "      <th>4</th>\n",
       "      <td>0</td>\n",
       "      <td>25</td>\n",
       "      <td>18</td>\n",
       "      <td>0</td>\n",
       "      <td>0</td>\n",
       "      <td>0</td>\n",
       "      <td>0.00</td>\n",
       "      <td>0.0</td>\n",
       "      <td>1</td>\n",
       "      <td>0</td>\n",
       "      <td>0</td>\n",
       "      <td>0</td>\n",
       "      <td>0</td>\n",
       "      <td>0</td>\n",
       "    </tr>\n",
       "  </tbody>\n",
       "</table>\n",
       "</div>"
      ],
      "text/plain": [
       "   group1  age  years of education  errors  ...=  ...*  positive voc  \\\n",
       "0       0   36                  17       0     0     0          3.03   \n",
       "1       0   27                  18       0     0     0          0.00   \n",
       "2       0   20                  14       0     0     0          0.00   \n",
       "3       0   21                  14       1     0     1          9.09   \n",
       "4       0   25                  18       0     0     0          0.00   \n",
       "\n",
       "   negative voc  sex_male  education_higher.unfinished  education_secondary  \\\n",
       "0           0.0         0                            0                    0   \n",
       "1           0.0         0                            0                    0   \n",
       "2           0.0         1                            0                    0   \n",
       "3           0.0         0                            0                    0   \n",
       "4           0.0         1                            0                    0   \n",
       "\n",
       "   education_vocational  education_vocational.unfinished  \\\n",
       "0                     0                                0   \n",
       "1                     0                                0   \n",
       "2                     0                                0   \n",
       "3                     0                                0   \n",
       "4                     0                                0   \n",
       "\n",
       "   education_ученая степень  \n",
       "0                         0  \n",
       "1                         0  \n",
       "2                         0  \n",
       "3                         0  \n",
       "4                         0  "
      ]
     },
     "execution_count": 204,
     "metadata": {},
     "output_type": "execute_result"
    }
   ],
   "source": [
    "data = pd.read_csv(\"C:/Users/Ольга/Desktop/contol_group  - errors.csv\")\n",
    "\n",
    "data['positive voc'] = pos_patients + pos_conrol\n",
    "data['negative voc'] = neg_patients + neg_conrol\n",
    "\n",
    "data = data.drop(['ID', 'group', 'diagnosis'], axis=1)\n",
    "\n",
    "data = pd.get_dummies(data, drop_first=True)\n",
    "data.head()\n",
    "\n",
    "data.head()"
   ]
  },
  {
   "cell_type": "code",
   "execution_count": 205,
   "id": "01859a51",
   "metadata": {},
   "outputs": [],
   "source": [
    "from sklearn.neighbors import KNeighborsClassifier\n",
    "from sklearn.preprocessing import StandardScaler"
   ]
  },
  {
   "cell_type": "code",
   "execution_count": 206,
   "id": "84f04784",
   "metadata": {},
   "outputs": [],
   "source": [
    "normalizer = StandardScaler()\n",
    "normalizer.fit(data[['age', 'years of education', 'errors', '...=', 'positive voc', 'negative voc']])\n",
    "X_transformed = normalizer.transform(data[['age', 'years of education', 'errors', '...=', 'positive voc', 'negative voc']])"
   ]
  },
  {
   "cell_type": "code",
   "execution_count": 207,
   "id": "76c4fffa",
   "metadata": {},
   "outputs": [
    {
     "data": {
      "text/html": [
       "<div>\n",
       "<style scoped>\n",
       "    .dataframe tbody tr th:only-of-type {\n",
       "        vertical-align: middle;\n",
       "    }\n",
       "\n",
       "    .dataframe tbody tr th {\n",
       "        vertical-align: top;\n",
       "    }\n",
       "\n",
       "    .dataframe thead th {\n",
       "        text-align: right;\n",
       "    }\n",
       "</style>\n",
       "<table border=\"1\" class=\"dataframe\">\n",
       "  <thead>\n",
       "    <tr style=\"text-align: right;\">\n",
       "      <th></th>\n",
       "      <th>group1</th>\n",
       "      <th>age</th>\n",
       "      <th>years of education</th>\n",
       "      <th>errors</th>\n",
       "      <th>...=</th>\n",
       "      <th>...*</th>\n",
       "      <th>positive voc</th>\n",
       "      <th>negative voc</th>\n",
       "      <th>sex_male</th>\n",
       "      <th>education_higher.unfinished</th>\n",
       "      <th>education_secondary</th>\n",
       "      <th>education_vocational</th>\n",
       "      <th>education_vocational.unfinished</th>\n",
       "      <th>education_ученая степень</th>\n",
       "    </tr>\n",
       "  </thead>\n",
       "  <tbody>\n",
       "    <tr>\n",
       "      <th>0</th>\n",
       "      <td>0</td>\n",
       "      <td>0.876996</td>\n",
       "      <td>1.128159</td>\n",
       "      <td>-0.520429</td>\n",
       "      <td>-0.478281</td>\n",
       "      <td>0</td>\n",
       "      <td>1.143875</td>\n",
       "      <td>-0.364668</td>\n",
       "      <td>0</td>\n",
       "      <td>0</td>\n",
       "      <td>0</td>\n",
       "      <td>0</td>\n",
       "      <td>0</td>\n",
       "      <td>0</td>\n",
       "    </tr>\n",
       "    <tr>\n",
       "      <th>1</th>\n",
       "      <td>0</td>\n",
       "      <td>-0.031382</td>\n",
       "      <td>1.541239</td>\n",
       "      <td>-0.520429</td>\n",
       "      <td>-0.478281</td>\n",
       "      <td>0</td>\n",
       "      <td>-0.758731</td>\n",
       "      <td>-0.364668</td>\n",
       "      <td>0</td>\n",
       "      <td>0</td>\n",
       "      <td>0</td>\n",
       "      <td>0</td>\n",
       "      <td>0</td>\n",
       "      <td>0</td>\n",
       "    </tr>\n",
       "    <tr>\n",
       "      <th>2</th>\n",
       "      <td>0</td>\n",
       "      <td>-0.737898</td>\n",
       "      <td>-0.111080</td>\n",
       "      <td>-0.520429</td>\n",
       "      <td>-0.478281</td>\n",
       "      <td>0</td>\n",
       "      <td>-0.758731</td>\n",
       "      <td>-0.364668</td>\n",
       "      <td>1</td>\n",
       "      <td>0</td>\n",
       "      <td>0</td>\n",
       "      <td>0</td>\n",
       "      <td>0</td>\n",
       "      <td>0</td>\n",
       "    </tr>\n",
       "    <tr>\n",
       "      <th>3</th>\n",
       "      <td>0</td>\n",
       "      <td>-0.636967</td>\n",
       "      <td>-0.111080</td>\n",
       "      <td>0.403915</td>\n",
       "      <td>-0.478281</td>\n",
       "      <td>1</td>\n",
       "      <td>4.949088</td>\n",
       "      <td>-0.364668</td>\n",
       "      <td>0</td>\n",
       "      <td>0</td>\n",
       "      <td>0</td>\n",
       "      <td>0</td>\n",
       "      <td>0</td>\n",
       "      <td>0</td>\n",
       "    </tr>\n",
       "    <tr>\n",
       "      <th>4</th>\n",
       "      <td>0</td>\n",
       "      <td>-0.233244</td>\n",
       "      <td>1.541239</td>\n",
       "      <td>-0.520429</td>\n",
       "      <td>-0.478281</td>\n",
       "      <td>0</td>\n",
       "      <td>-0.758731</td>\n",
       "      <td>-0.364668</td>\n",
       "      <td>1</td>\n",
       "      <td>0</td>\n",
       "      <td>0</td>\n",
       "      <td>0</td>\n",
       "      <td>0</td>\n",
       "      <td>0</td>\n",
       "    </tr>\n",
       "    <tr>\n",
       "      <th>...</th>\n",
       "      <td>...</td>\n",
       "      <td>...</td>\n",
       "      <td>...</td>\n",
       "      <td>...</td>\n",
       "      <td>...</td>\n",
       "      <td>...</td>\n",
       "      <td>...</td>\n",
       "      <td>...</td>\n",
       "      <td>...</td>\n",
       "      <td>...</td>\n",
       "      <td>...</td>\n",
       "      <td>...</td>\n",
       "      <td>...</td>\n",
       "      <td>...</td>\n",
       "    </tr>\n",
       "    <tr>\n",
       "      <th>114</th>\n",
       "      <td>1</td>\n",
       "      <td>-0.737898</td>\n",
       "      <td>-0.524160</td>\n",
       "      <td>-0.520429</td>\n",
       "      <td>-0.478281</td>\n",
       "      <td>0</td>\n",
       "      <td>-0.758731</td>\n",
       "      <td>-0.364668</td>\n",
       "      <td>0</td>\n",
       "      <td>0</td>\n",
       "      <td>0</td>\n",
       "      <td>0</td>\n",
       "      <td>1</td>\n",
       "      <td>0</td>\n",
       "    </tr>\n",
       "    <tr>\n",
       "      <th>115</th>\n",
       "      <td>1</td>\n",
       "      <td>0.473273</td>\n",
       "      <td>0.302000</td>\n",
       "      <td>0.403915</td>\n",
       "      <td>0.707458</td>\n",
       "      <td>0</td>\n",
       "      <td>-0.231276</td>\n",
       "      <td>-0.364668</td>\n",
       "      <td>0</td>\n",
       "      <td>0</td>\n",
       "      <td>0</td>\n",
       "      <td>0</td>\n",
       "      <td>0</td>\n",
       "      <td>0</td>\n",
       "    </tr>\n",
       "    <tr>\n",
       "      <th>116</th>\n",
       "      <td>1</td>\n",
       "      <td>0.776066</td>\n",
       "      <td>0.715080</td>\n",
       "      <td>2.252601</td>\n",
       "      <td>1.893197</td>\n",
       "      <td>1</td>\n",
       "      <td>-0.331744</td>\n",
       "      <td>-0.364668</td>\n",
       "      <td>0</td>\n",
       "      <td>0</td>\n",
       "      <td>0</td>\n",
       "      <td>0</td>\n",
       "      <td>0</td>\n",
       "      <td>0</td>\n",
       "    </tr>\n",
       "    <tr>\n",
       "      <th>117</th>\n",
       "      <td>1</td>\n",
       "      <td>-0.838829</td>\n",
       "      <td>-0.937240</td>\n",
       "      <td>0.403915</td>\n",
       "      <td>0.707458</td>\n",
       "      <td>0</td>\n",
       "      <td>0.497114</td>\n",
       "      <td>-0.364668</td>\n",
       "      <td>0</td>\n",
       "      <td>0</td>\n",
       "      <td>0</td>\n",
       "      <td>0</td>\n",
       "      <td>1</td>\n",
       "      <td>0</td>\n",
       "    </tr>\n",
       "    <tr>\n",
       "      <th>118</th>\n",
       "      <td>1</td>\n",
       "      <td>0.776066</td>\n",
       "      <td>-0.524160</td>\n",
       "      <td>-0.520429</td>\n",
       "      <td>-0.478281</td>\n",
       "      <td>0</td>\n",
       "      <td>0.917823</td>\n",
       "      <td>-0.364668</td>\n",
       "      <td>0</td>\n",
       "      <td>1</td>\n",
       "      <td>0</td>\n",
       "      <td>0</td>\n",
       "      <td>0</td>\n",
       "      <td>0</td>\n",
       "    </tr>\n",
       "  </tbody>\n",
       "</table>\n",
       "<p>119 rows × 14 columns</p>\n",
       "</div>"
      ],
      "text/plain": [
       "     group1       age  years of education    errors      ...=  ...*  \\\n",
       "0         0  0.876996            1.128159 -0.520429 -0.478281     0   \n",
       "1         0 -0.031382            1.541239 -0.520429 -0.478281     0   \n",
       "2         0 -0.737898           -0.111080 -0.520429 -0.478281     0   \n",
       "3         0 -0.636967           -0.111080  0.403915 -0.478281     1   \n",
       "4         0 -0.233244            1.541239 -0.520429 -0.478281     0   \n",
       "..      ...       ...                 ...       ...       ...   ...   \n",
       "114       1 -0.737898           -0.524160 -0.520429 -0.478281     0   \n",
       "115       1  0.473273            0.302000  0.403915  0.707458     0   \n",
       "116       1  0.776066            0.715080  2.252601  1.893197     1   \n",
       "117       1 -0.838829           -0.937240  0.403915  0.707458     0   \n",
       "118       1  0.776066           -0.524160 -0.520429 -0.478281     0   \n",
       "\n",
       "     positive voc  negative voc  sex_male  education_higher.unfinished  \\\n",
       "0        1.143875     -0.364668         0                            0   \n",
       "1       -0.758731     -0.364668         0                            0   \n",
       "2       -0.758731     -0.364668         1                            0   \n",
       "3        4.949088     -0.364668         0                            0   \n",
       "4       -0.758731     -0.364668         1                            0   \n",
       "..            ...           ...       ...                          ...   \n",
       "114     -0.758731     -0.364668         0                            0   \n",
       "115     -0.231276     -0.364668         0                            0   \n",
       "116     -0.331744     -0.364668         0                            0   \n",
       "117      0.497114     -0.364668         0                            0   \n",
       "118      0.917823     -0.364668         0                            1   \n",
       "\n",
       "     education_secondary  education_vocational  \\\n",
       "0                      0                     0   \n",
       "1                      0                     0   \n",
       "2                      0                     0   \n",
       "3                      0                     0   \n",
       "4                      0                     0   \n",
       "..                   ...                   ...   \n",
       "114                    0                     0   \n",
       "115                    0                     0   \n",
       "116                    0                     0   \n",
       "117                    0                     0   \n",
       "118                    0                     0   \n",
       "\n",
       "     education_vocational.unfinished  education_ученая степень  \n",
       "0                                  0                         0  \n",
       "1                                  0                         0  \n",
       "2                                  0                         0  \n",
       "3                                  0                         0  \n",
       "4                                  0                         0  \n",
       "..                               ...                       ...  \n",
       "114                                1                         0  \n",
       "115                                0                         0  \n",
       "116                                0                         0  \n",
       "117                                1                         0  \n",
       "118                                0                         0  \n",
       "\n",
       "[119 rows x 14 columns]"
      ]
     },
     "execution_count": 207,
     "metadata": {},
     "output_type": "execute_result"
    }
   ],
   "source": [
    "data[['age', 'years of education', 'errors', '...=', 'positive voc', 'negative voc']] = X_transformed\n",
    "data"
   ]
  },
  {
   "cell_type": "markdown",
   "id": "55be4bff",
   "metadata": {},
   "source": [
    "# TRAIN/TEST"
   ]
  },
  {
   "cell_type": "code",
   "execution_count": 208,
   "id": "77d2de14",
   "metadata": {},
   "outputs": [],
   "source": [
    "from sklearn.model_selection import train_test_split, cross_val_score, GridSearchCV\n",
    "from sklearn. model_selection import LeaveOneOut\n",
    "from sklearn. model_selection import cross_val_score\n",
    "from numpy import mean"
   ]
  },
  {
   "cell_type": "code",
   "execution_count": 217,
   "id": "5087a139",
   "metadata": {},
   "outputs": [],
   "source": [
    "X = data.drop('group1', axis=1) \n",
    "y = data['group1']\n",
    "\n",
    "X_train, X_test, y_train, y_test = train_test_split(X, y, test_size=0.4, random_state=10)"
   ]
  },
  {
   "cell_type": "code",
   "execution_count": 218,
   "id": "17870a8c",
   "metadata": {},
   "outputs": [
    {
     "name": "stdout",
     "output_type": "stream",
     "text": [
      "71 48\n"
     ]
    }
   ],
   "source": [
    "print(len(y_train), len(y_test))"
   ]
  },
  {
   "cell_type": "markdown",
   "id": "39598637",
   "metadata": {},
   "source": [
    "# SVM"
   ]
  },
  {
   "cell_type": "code",
   "execution_count": 219,
   "id": "68270c9e",
   "metadata": {},
   "outputs": [],
   "source": [
    "from sklearn import svm"
   ]
  },
  {
   "cell_type": "code",
   "execution_count": 220,
   "id": "955d8710",
   "metadata": {},
   "outputs": [],
   "source": [
    "clf = svm.SVC()"
   ]
  },
  {
   "cell_type": "code",
   "execution_count": 221,
   "id": "f12b197a",
   "metadata": {},
   "outputs": [
    {
     "data": {
      "text/html": [
       "<style>#sk-container-id-5 {color: black;background-color: white;}#sk-container-id-5 pre{padding: 0;}#sk-container-id-5 div.sk-toggleable {background-color: white;}#sk-container-id-5 label.sk-toggleable__label {cursor: pointer;display: block;width: 100%;margin-bottom: 0;padding: 0.3em;box-sizing: border-box;text-align: center;}#sk-container-id-5 label.sk-toggleable__label-arrow:before {content: \"▸\";float: left;margin-right: 0.25em;color: #696969;}#sk-container-id-5 label.sk-toggleable__label-arrow:hover:before {color: black;}#sk-container-id-5 div.sk-estimator:hover label.sk-toggleable__label-arrow:before {color: black;}#sk-container-id-5 div.sk-toggleable__content {max-height: 0;max-width: 0;overflow: hidden;text-align: left;background-color: #f0f8ff;}#sk-container-id-5 div.sk-toggleable__content pre {margin: 0.2em;color: black;border-radius: 0.25em;background-color: #f0f8ff;}#sk-container-id-5 input.sk-toggleable__control:checked~div.sk-toggleable__content {max-height: 200px;max-width: 100%;overflow: auto;}#sk-container-id-5 input.sk-toggleable__control:checked~label.sk-toggleable__label-arrow:before {content: \"▾\";}#sk-container-id-5 div.sk-estimator input.sk-toggleable__control:checked~label.sk-toggleable__label {background-color: #d4ebff;}#sk-container-id-5 div.sk-label input.sk-toggleable__control:checked~label.sk-toggleable__label {background-color: #d4ebff;}#sk-container-id-5 input.sk-hidden--visually {border: 0;clip: rect(1px 1px 1px 1px);clip: rect(1px, 1px, 1px, 1px);height: 1px;margin: -1px;overflow: hidden;padding: 0;position: absolute;width: 1px;}#sk-container-id-5 div.sk-estimator {font-family: monospace;background-color: #f0f8ff;border: 1px dotted black;border-radius: 0.25em;box-sizing: border-box;margin-bottom: 0.5em;}#sk-container-id-5 div.sk-estimator:hover {background-color: #d4ebff;}#sk-container-id-5 div.sk-parallel-item::after {content: \"\";width: 100%;border-bottom: 1px solid gray;flex-grow: 1;}#sk-container-id-5 div.sk-label:hover label.sk-toggleable__label {background-color: #d4ebff;}#sk-container-id-5 div.sk-serial::before {content: \"\";position: absolute;border-left: 1px solid gray;box-sizing: border-box;top: 0;bottom: 0;left: 50%;z-index: 0;}#sk-container-id-5 div.sk-serial {display: flex;flex-direction: column;align-items: center;background-color: white;padding-right: 0.2em;padding-left: 0.2em;position: relative;}#sk-container-id-5 div.sk-item {position: relative;z-index: 1;}#sk-container-id-5 div.sk-parallel {display: flex;align-items: stretch;justify-content: center;background-color: white;position: relative;}#sk-container-id-5 div.sk-item::before, #sk-container-id-5 div.sk-parallel-item::before {content: \"\";position: absolute;border-left: 1px solid gray;box-sizing: border-box;top: 0;bottom: 0;left: 50%;z-index: -1;}#sk-container-id-5 div.sk-parallel-item {display: flex;flex-direction: column;z-index: 1;position: relative;background-color: white;}#sk-container-id-5 div.sk-parallel-item:first-child::after {align-self: flex-end;width: 50%;}#sk-container-id-5 div.sk-parallel-item:last-child::after {align-self: flex-start;width: 50%;}#sk-container-id-5 div.sk-parallel-item:only-child::after {width: 0;}#sk-container-id-5 div.sk-dashed-wrapped {border: 1px dashed gray;margin: 0 0.4em 0.5em 0.4em;box-sizing: border-box;padding-bottom: 0.4em;background-color: white;}#sk-container-id-5 div.sk-label label {font-family: monospace;font-weight: bold;display: inline-block;line-height: 1.2em;}#sk-container-id-5 div.sk-label-container {text-align: center;}#sk-container-id-5 div.sk-container {/* jupyter's `normalize.less` sets `[hidden] { display: none; }` but bootstrap.min.css set `[hidden] { display: none !important; }` so we also need the `!important` here to be able to override the default hidden behavior on the sphinx rendered scikit-learn.org. See: https://github.com/scikit-learn/scikit-learn/issues/21755 */display: inline-block !important;position: relative;}#sk-container-id-5 div.sk-text-repr-fallback {display: none;}</style><div id=\"sk-container-id-5\" class=\"sk-top-container\"><div class=\"sk-text-repr-fallback\"><pre>SVC()</pre><b>In a Jupyter environment, please rerun this cell to show the HTML representation or trust the notebook. <br />On GitHub, the HTML representation is unable to render, please try loading this page with nbviewer.org.</b></div><div class=\"sk-container\" hidden><div class=\"sk-item\"><div class=\"sk-estimator sk-toggleable\"><input class=\"sk-toggleable__control sk-hidden--visually\" id=\"sk-estimator-id-7\" type=\"checkbox\" checked><label for=\"sk-estimator-id-7\" class=\"sk-toggleable__label sk-toggleable__label-arrow\">SVC</label><div class=\"sk-toggleable__content\"><pre>SVC()</pre></div></div></div></div></div>"
      ],
      "text/plain": [
       "SVC()"
      ]
     },
     "execution_count": 221,
     "metadata": {},
     "output_type": "execute_result"
    }
   ],
   "source": [
    "clf.fit(X_train, y_train)"
   ]
  },
  {
   "cell_type": "code",
   "execution_count": 282,
   "id": "2ef900ba",
   "metadata": {},
   "outputs": [],
   "source": [
    "y_pred = clf.predict(X_test)"
   ]
  },
  {
   "cell_type": "code",
   "execution_count": 228,
   "id": "65968685",
   "metadata": {},
   "outputs": [],
   "source": [
    "from sklearn.metrics import classification_report, recall_score\n"
   ]
  },
  {
   "cell_type": "code",
   "execution_count": 229,
   "id": "435a6c63",
   "metadata": {},
   "outputs": [
    {
     "name": "stdout",
     "output_type": "stream",
     "text": [
      "0.7142857142857143\n"
     ]
    }
   ],
   "source": [
    "recall = recall_score(y_test_, y_pred, pos_label= 1)\n",
    "print(recall)"
   ]
  },
  {
   "cell_type": "code",
   "execution_count": 236,
   "id": "2c671254",
   "metadata": {},
   "outputs": [
    {
     "name": "stdout",
     "output_type": "stream",
     "text": [
      "              precision    recall  f1-score   support\n",
      "\n",
      "           0       0.89      0.91      0.90        34\n",
      "           1       0.77      0.71      0.74        14\n",
      "\n",
      "    accuracy                           0.85        48\n",
      "   macro avg       0.83      0.81      0.82        48\n",
      "weighted avg       0.85      0.85      0.85        48\n",
      "\n"
     ]
    }
   ],
   "source": [
    "report = classification_report(y_test, y_pred, target_names=['0', '1'])\n",
    "print(report)"
   ]
  },
  {
   "cell_type": "code",
   "execution_count": 266,
   "id": "d5d35572",
   "metadata": {},
   "outputs": [
    {
     "data": {
      "text/plain": [
       "array([0, 0, 0, 1, 0, 0, 0, 1, 0, 0, 0, 0, 1, 0, 0, 0, 0, 0, 0, 1, 0, 0,\n",
       "       0, 0, 0, 0, 1, 0, 0, 1, 0, 0, 0, 1, 1, 1, 0, 0, 1, 0, 0, 1, 0, 0,\n",
       "       0, 0, 1, 1], dtype=int64)"
      ]
     },
     "execution_count": 266,
     "metadata": {},
     "output_type": "execute_result"
    }
   ],
   "source": [
    "y_pred"
   ]
  },
  {
   "cell_type": "code",
   "execution_count": 268,
   "id": "373d3a81",
   "metadata": {},
   "outputs": [
    {
     "data": {
      "text/plain": [
       "array([0, 1, 0, 1, 1, 0, 0, 1, 0, 0, 0, 0, 1, 0, 0, 0, 0, 0, 0, 0, 0, 0,\n",
       "       0, 0, 0, 0, 0, 0, 1, 1, 0, 0, 0, 1, 1, 1, 1, 0, 0, 0, 0, 1, 0, 0,\n",
       "       0, 0, 1, 1], dtype=int64)"
      ]
     },
     "execution_count": 268,
     "metadata": {},
     "output_type": "execute_result"
    }
   ],
   "source": [
    "np.array(y_test)"
   ]
  },
  {
   "cell_type": "code",
   "execution_count": 265,
   "id": "3b74de75",
   "metadata": {},
   "outputs": [
    {
     "data": {
      "text/plain": [
       "array([[31,  3],\n",
       "       [ 4, 10]], dtype=int64)"
      ]
     },
     "execution_count": 265,
     "metadata": {},
     "output_type": "execute_result"
    }
   ],
   "source": [
    "from sklearn.metrics import confusion_matrix\n",
    "confusion_matrix(y_test, y_pred)"
   ]
  },
  {
   "cell_type": "markdown",
   "id": "c6e7e4ef",
   "metadata": {},
   "source": [
    "# визуализация"
   ]
  },
  {
   "cell_type": "code",
   "execution_count": 275,
   "id": "2cd1ba76",
   "metadata": {},
   "outputs": [],
   "source": [
    "model = []\n",
    "for i, j in zip(list(y_test), list(y_pred)):\n",
    "    if i == j:\n",
    "        model.append(\"верное предсказание\")\n",
    "    else:\n",
    "        model.append(\"ошибка\")"
   ]
  },
  {
   "cell_type": "code",
   "execution_count": 276,
   "id": "8710a069",
   "metadata": {},
   "outputs": [],
   "source": [
    "shiz = []\n",
    "for i in list(y_test):\n",
    "    if i == 1:\n",
    "        shiz.append('есть шизофрения')\n",
    "    else:\n",
    "        shiz.append('нет шизофрения')"
   ]
  },
  {
   "cell_type": "code",
   "execution_count": 281,
   "id": "d551c3c2",
   "metadata": {},
   "outputs": [
    {
     "data": {
      "text/html": [
       "<div>\n",
       "<style scoped>\n",
       "    .dataframe tbody tr th:only-of-type {\n",
       "        vertical-align: middle;\n",
       "    }\n",
       "\n",
       "    .dataframe tbody tr th {\n",
       "        vertical-align: top;\n",
       "    }\n",
       "\n",
       "    .dataframe thead th {\n",
       "        text-align: right;\n",
       "    }\n",
       "</style>\n",
       "<table border=\"1\" class=\"dataframe\">\n",
       "  <thead>\n",
       "    <tr style=\"text-align: right;\">\n",
       "      <th></th>\n",
       "      <th>предсказание модели</th>\n",
       "      <th>шизофрения</th>\n",
       "    </tr>\n",
       "  </thead>\n",
       "  <tbody>\n",
       "    <tr>\n",
       "      <th>0</th>\n",
       "      <td>верное предсказание</td>\n",
       "      <td>нет шизофрения</td>\n",
       "    </tr>\n",
       "    <tr>\n",
       "      <th>1</th>\n",
       "      <td>ошибка</td>\n",
       "      <td>есть шизофрения</td>\n",
       "    </tr>\n",
       "    <tr>\n",
       "      <th>2</th>\n",
       "      <td>верное предсказание</td>\n",
       "      <td>нет шизофрения</td>\n",
       "    </tr>\n",
       "    <tr>\n",
       "      <th>3</th>\n",
       "      <td>верное предсказание</td>\n",
       "      <td>есть шизофрения</td>\n",
       "    </tr>\n",
       "    <tr>\n",
       "      <th>4</th>\n",
       "      <td>ошибка</td>\n",
       "      <td>есть шизофрения</td>\n",
       "    </tr>\n",
       "  </tbody>\n",
       "</table>\n",
       "</div>"
      ],
      "text/plain": [
       "   предсказание модели       шизофрения\n",
       "0  верное предсказание   нет шизофрения\n",
       "1               ошибка  есть шизофрения\n",
       "2  верное предсказание   нет шизофрения\n",
       "3  верное предсказание  есть шизофрения\n",
       "4               ошибка  есть шизофрения"
      ]
     },
     "execution_count": 281,
     "metadata": {},
     "output_type": "execute_result"
    }
   ],
   "source": [
    "df = pd.DataFrame()\n",
    "df['предсказание модели'] = model\n",
    "df['шизофрения'] = shiz\n",
    "df.head()"
   ]
  },
  {
   "cell_type": "code",
   "execution_count": 411,
   "id": "582c988a",
   "metadata": {},
   "outputs": [
    {
     "data": {
      "image/png": "[encoded data removed]",
      "text/plain": [
       "<Figure size 900x500 with 1 Axes>"
      ]
     },
     "metadata": {},
     "output_type": "display_data"
    }
   ],
   "source": [
    "import seaborn as sns\n",
    "from matplotlib import style\n",
    "plt.figure(figsize=(9,5))\n",
    "sns.set_palette(sns.dark_palette(color='blue', n_colors=3, reverse=True))\n",
    "fig = sns.histplot(data=df, x=\"предсказание модели\", hue=\"шизофрения\", multiple=\"dodge\", shrink=.8)\n",
    "plt.title('SVM')\n",
    "plt.show()"
   ]
  }
 ],
 "metadata": {
  "kernelspec": {
   "display_name": "Python 3 (ipykernel)",
   "language": "python",
   "name": "python3"
  },
  "language_info": {
   "codemirror_mode": {
    "name": "ipython",
    "version": 3
   },
   "file_extension": ".py",
   "mimetype": "text/x-python",
   "name": "python",
   "nbconvert_exporter": "python",
   "pygments_lexer": "ipython3",
   "version": "3.10.0"
  }
 },
 "nbformat": 4,
 "nbformat_minor": 5
}
