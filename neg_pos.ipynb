{
 "cells": [
  {
   "cell_type": "code",
   "execution_count": 2,
   "id": "41d523d5",
   "metadata": {},
   "outputs": [],
   "source": [
    "import gensim\n",
    "import gensim.downloader as download_api\n",
    "russian_model = download_api.load('word2vec-ruscorpora-300')"
   ]
  },
  {
   "cell_type": "code",
   "execution_count": 3,
   "id": "c66aa661",
   "metadata": {},
   "outputs": [
    {
     "data": {
      "text/plain": [
       "184973"
      ]
     },
     "execution_count": 3,
     "metadata": {},
     "output_type": "execute_result"
    }
   ],
   "source": [
    "len(russian_model)"
   ]
  },
  {
   "cell_type": "code",
   "execution_count": 4,
   "id": "445f1c7a",
   "metadata": {},
   "outputs": [
    {
     "data": {
      "text/plain": [
       "[('радостный_ADJ', 0.7136526107788086),\n",
       " ('восторг_NOUN', 0.677175760269165),\n",
       " ('счастие_NOUN', 0.6690915822982788),\n",
       " ('ликование_NOUN', 0.6549766063690186),\n",
       " ('печаль_NOUN', 0.645858645439148),\n",
       " ('огорчение_NOUN', 0.6326740384101868),\n",
       " ('горесть_NOUN', 0.6323299407958984),\n",
       " ('веселие_NOUN', 0.6247930526733398),\n",
       " ('радоваться_VERB', 0.6218827366828918),\n",
       " ('удовольствие_NOUN', 0.612714409828186)]"
      ]
     },
     "execution_count": 4,
     "metadata": {},
     "output_type": "execute_result"
    }
   ],
   "source": [
    "russian_model.most_similar(positive=['радость_NOUN'])"
   ]
  }
 ],
 "metadata": {
  "kernelspec": {
   "display_name": "Python 3 (ipykernel)",
   "language": "python",
   "name": "python3"
  },
  "language_info": {
   "codemirror_mode": {
    "name": "ipython",
    "version": 3
   },
   "file_extension": ".py",
   "mimetype": "text/x-python",
   "name": "python",
   "nbconvert_exporter": "python",
   "pygments_lexer": "ipython3",
   "version": "3.10.0"
  }
 },
 "nbformat": 4,
 "nbformat_minor": 5
}
