{
 "cells": [
  {
   "cell_type": "code",
   "execution_count": 480,
   "id": "e58a246d",
   "metadata": {},
   "outputs": [],
   "source": [
    "import os\n",
    "import glob\n",
    "import fileinput\n",
    "import csv"
   ]
  },
  {
   "cell_type": "code",
   "execution_count": 268,
   "id": "8553a44c",
   "metadata": {},
   "outputs": [],
   "source": [
    "path = \"D:/patients\"\n",
    "pattern = '*.txt'\n",
    "\n",
    "glob_path = os.path.join(path, pattern)\n",
    "list_files = glob.glob(glob_path)\n",
    "new_file = 'new_patient.txt'\n",
    "\n",
    "if list_files:\n",
    "    with fileinput.FileInput(files=list_files) as fr, open(new_file, 'w') as fw:\n",
    "        for line in fr:\n",
    "            fw.write(line)"
   ]
  },
  {
   "cell_type": "code",
   "execution_count": 269,
   "id": "4fe99e58",
   "metadata": {},
   "outputs": [],
   "source": [
    "path = \"D:/control group\"\n",
    "pattern = '*.txt'\n",
    "\n",
    "glob_path = os.path.join(path, pattern)\n",
    "list_files = glob.glob(glob_path)\n",
    "new_file = 'new_control.txt'\n",
    "\n",
    "if list_files:\n",
    "    with fileinput.FileInput(files=list_files) as fr, open(new_file, 'w') as fw:\n",
    "        for line in fr:\n",
    "            fw.write(line)"
   ]
  },
  {
   "cell_type": "code",
   "execution_count": 692,
   "id": "0f5c6e52",
   "metadata": {},
   "outputs": [],
   "source": [
    "with open(\"C:/Users/Ольга/new_patient.txt\", encoding='utf-8') as f:\n",
    "    patients = f.read()\n",
    "with open(\"C:/Users/Ольга/new_control.txt\", encoding='utf-8') as f:\n",
    "    control = f.read()"
   ]
  },
  {
   "cell_type": "code",
   "execution_count": 567,
   "id": "2792b0ce",
   "metadata": {},
   "outputs": [],
   "source": [
    "from nltk.tokenize import word_tokenize\n",
    "from pymorphy2 import MorphAnalyzer\n",
    "from nltk.corpus import stopwords\n",
    "stopwords_ru = stopwords.words(\"russian\")"
   ]
  },
  {
   "cell_type": "code",
   "execution_count": 693,
   "id": "81950882",
   "metadata": {},
   "outputs": [],
   "source": [
    "def lem_and_tok(text):\n",
    "    morph = MorphAnalyzer()\n",
    "    tokens = []\n",
    "    words = word_tokenize(text, language=\"russian\")\n",
    "    for word in words:\n",
    "        if word not in stopwords_ru:\n",
    "            word = word.strip()\n",
    "            word = morph.normal_forms(word)[0]\n",
    "            tokens.append(word)\n",
    "    return tokens"
   ]
  },
  {
   "cell_type": "code",
   "execution_count": 694,
   "id": "afcc157d",
   "metadata": {
    "scrolled": false
   },
   "outputs": [
    {
     "data": {
      "text/plain": [
       "1767"
      ]
     },
     "execution_count": 694,
     "metadata": {},
     "output_type": "execute_result"
    }
   ],
   "source": [
    "patients_ready = lem_and_tok(patients)\n",
    "len(patients_ready)"
   ]
  },
  {
   "cell_type": "code",
   "execution_count": 695,
   "id": "7696e882",
   "metadata": {},
   "outputs": [
    {
     "data": {
      "text/plain": [
       "8357"
      ]
     },
     "execution_count": 695,
     "metadata": {},
     "output_type": "execute_result"
    }
   ],
   "source": [
    "control_ready = lem_and_tok(control)\n",
    "len(control_ready)"
   ]
  },
  {
   "cell_type": "code",
   "execution_count": 18,
   "id": "823d9d4e",
   "metadata": {},
   "outputs": [
    {
     "name": "stdout",
     "output_type": "stream",
     "text": [
      "195\n"
     ]
    }
   ],
   "source": [
    "with open(\"C:/Users/Ольга/Desktop/радость.txt\", encoding='utf-8') as f:\n",
    "    good = f.read()\n",
    "    good = good.split(sep=',')\n",
    "    \n",
    "print(len(good))"
   ]
  },
  {
   "cell_type": "code",
   "execution_count": 19,
   "id": "2e23b1bf",
   "metadata": {},
   "outputs": [
    {
     "name": "stdout",
     "output_type": "stream",
     "text": [
      "160\n"
     ]
    }
   ],
   "source": [
    "with open(\"C:/Users/Ольга/Desktop/печаль.txt\", encoding='utf-8') as f:\n",
    "    bad = f.read()\n",
    "    bad = bad.split(sep=',')\n",
    "print(len(bad))"
   ]
  },
  {
   "cell_type": "code",
   "execution_count": 699,
   "id": "2a7d144f",
   "metadata": {},
   "outputs": [],
   "source": [
    "def calculate(file):\n",
    "    percent_good = []\n",
    "    percent_bad = []\n",
    "    for elem in file:\n",
    "        if elem in good:\n",
    "            percent_good.append(elem)\n",
    "        elif elem in bad:\n",
    "            percent_bad.append(elem)\n",
    "\n",
    "    per_cent_good = len(percent_good) / len(file) * 100\n",
    "    per_cent_bad = len(percent_bad) / len(file) * 100\n",
    "    return (f\"\"\"percent of positive vocabulary is {round(per_cent_good)}%, amount: {len(percent_good)}, \n",
    "           percent of negative vocabulary is {round(per_cent_bad)}%, amount: {len(percent_bad)}\"\"\")"
   ]
  },
  {
   "cell_type": "code",
   "execution_count": 700,
   "id": "99b9f90b",
   "metadata": {},
   "outputs": [
    {
     "name": "stdout",
     "output_type": "stream",
     "text": [
      "Patients: percent of positive vocabulary is 4%, amount: 64, \n",
      "           percent of negative vocabulary is 2%, amount: 27\n"
     ]
    }
   ],
   "source": [
    "print('Patients:', calculate(patients_ready))"
   ]
  },
  {
   "cell_type": "code",
   "execution_count": 701,
   "id": "755ab970",
   "metadata": {},
   "outputs": [
    {
     "name": "stdout",
     "output_type": "stream",
     "text": [
      "Control group: percent of positive vocabulary is 4%, amount: 337, \n",
      "           percent of negative vocabulary is 0%, amount: 22\n"
     ]
    }
   ],
   "source": [
    "print('Control group:', calculate(control_ready))"
   ]
  }
 ],
 "metadata": {
  "kernelspec": {
   "display_name": "Python 3 (ipykernel)",
   "language": "python",
   "name": "python3"
  },
  "language_info": {
   "codemirror_mode": {
    "name": "ipython",
    "version": 3
   },
   "file_extension": ".py",
   "mimetype": "text/x-python",
   "name": "python",
   "nbconvert_exporter": "python",
   "pygments_lexer": "ipython3",
   "version": "3.10.0"
  }
 },
 "nbformat": 4,
 "nbformat_minor": 5
}
