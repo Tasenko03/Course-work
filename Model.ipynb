{
 "cells": [
  {
   "cell_type": "code",
   "execution_count": 9,
   "id": "7ed29220",
   "metadata": {},
   "outputs": [],
   "source": [
    "import pandas as pd"
   ]
  },
  {
   "cell_type": "code",
   "execution_count": 10,
   "id": "bf81149a",
   "metadata": {},
   "outputs": [],
   "source": [
    "import gensim\n",
    "import gensim.downloader as download_api\n",
    "russian_model = download_api.load('word2vec-ruscorpora-300')"
   ]
  },
  {
   "cell_type": "code",
   "execution_count": 11,
   "id": "dc087018",
   "metadata": {},
   "outputs": [
    {
     "data": {
      "text/plain": [
       "184973"
      ]
     },
     "execution_count": 11,
     "metadata": {},
     "output_type": "execute_result"
    }
   ],
   "source": [
    "len(russian_model)"
   ]
  },
  {
   "cell_type": "code",
   "execution_count": 690,
   "id": "35828737",
   "metadata": {
    "scrolled": true
   },
   "outputs": [
    {
     "data": {
      "text/plain": [
       "[('радостный_ADJ', 0.7136526107788086),\n",
       " ('восторг_NOUN', 0.677175760269165),\n",
       " ('счастие_NOUN', 0.6690915822982788),\n",
       " ('ликование_NOUN', 0.6549766063690186),\n",
       " ('печаль_NOUN', 0.645858645439148),\n",
       " ('огорчение_NOUN', 0.6326740384101868),\n",
       " ('горесть_NOUN', 0.6323299407958984),\n",
       " ('веселие_NOUN', 0.6247930526733398),\n",
       " ('радоваться_VERB', 0.6218827366828918),\n",
       " ('удовольствие_NOUN', 0.612714409828186)]"
      ]
     },
     "execution_count": 690,
     "metadata": {},
     "output_type": "execute_result"
    }
   ],
   "source": [
    "russian_model.most_similar(positive=['радость_NOUN'])"
   ]
  },
  {
   "cell_type": "markdown",
   "id": "1880c8ca",
   "metadata": {},
   "source": [
    "# Считаем процент"
   ]
  },
  {
   "cell_type": "code",
   "execution_count": 480,
   "id": "e58a246d",
   "metadata": {},
   "outputs": [],
   "source": [
    "import os\n",
    "import glob\n",
    "import fileinput\n",
    "import csv"
   ]
  },
  {
   "cell_type": "code",
   "execution_count": 268,
   "id": "8553a44c",
   "metadata": {},
   "outputs": [],
   "source": [
    "path = \"D:/patients\"\n",
    "pattern = '*.txt'\n",
    "\n",
    "glob_path = os.path.join(path, pattern)\n",
    "list_files = glob.glob(glob_path)\n",
    "new_file = 'new_patient.txt'\n",
    "\n",
    "if list_files:\n",
    "    with fileinput.FileInput(files=list_files) as fr, open(new_file, 'w') as fw:\n",
    "        for line in fr:\n",
    "            fw.write(line)"
   ]
  },
  {
   "cell_type": "code",
   "execution_count": 269,
   "id": "4fe99e58",
   "metadata": {},
   "outputs": [],
   "source": [
    "path = \"D:/control group\"\n",
    "pattern = '*.txt'\n",
    "\n",
    "glob_path = os.path.join(path, pattern)\n",
    "list_files = glob.glob(glob_path)\n",
    "new_file = 'new_control.txt'\n",
    "\n",
    "if list_files:\n",
    "    with fileinput.FileInput(files=list_files) as fr, open(new_file, 'w') as fw:\n",
    "        for line in fr:\n",
    "            fw.write(line)"
   ]
  },
  {
   "cell_type": "code",
   "execution_count": 692,
   "id": "0f5c6e52",
   "metadata": {},
   "outputs": [],
   "source": [
    "with open(\"C:/Users/Ольга/new_patient.txt\", encoding='utf-8') as f:\n",
    "    patients = f.read()\n",
    "with open(\"C:/Users/Ольга/new_control.txt\", encoding='utf-8') as f:\n",
    "    control = f.read()"
   ]
  },
  {
   "cell_type": "code",
   "execution_count": 567,
   "id": "2792b0ce",
   "metadata": {},
   "outputs": [],
   "source": [
    "from nltk.tokenize import word_tokenize\n",
    "from pymorphy2 import MorphAnalyzer\n",
    "from nltk.corpus import stopwords\n",
    "stopwords_ru = stopwords.words(\"russian\")"
   ]
  },
  {
   "cell_type": "code",
   "execution_count": 693,
   "id": "81950882",
   "metadata": {},
   "outputs": [],
   "source": [
    "def lem_and_tok(text):\n",
    "    morph = MorphAnalyzer()\n",
    "    tokens = []\n",
    "    words = word_tokenize(text, language=\"russian\")\n",
    "    for word in words:\n",
    "        if word not in stopwords_ru:\n",
    "            word = word.strip()\n",
    "            word = morph.normal_forms(word)[0]\n",
    "            tokens.append(word)\n",
    "    return tokens"
   ]
  },
  {
   "cell_type": "code",
   "execution_count": 694,
   "id": "afcc157d",
   "metadata": {
    "scrolled": false
   },
   "outputs": [
    {
     "data": {
      "text/plain": [
       "1767"
      ]
     },
     "execution_count": 694,
     "metadata": {},
     "output_type": "execute_result"
    }
   ],
   "source": [
    "patients_ready = lem_and_tok(patients)\n",
    "len(patients_ready)"
   ]
  },
  {
   "cell_type": "code",
   "execution_count": 695,
   "id": "7696e882",
   "metadata": {},
   "outputs": [
    {
     "data": {
      "text/plain": [
       "8357"
      ]
     },
     "execution_count": 695,
     "metadata": {},
     "output_type": "execute_result"
    }
   ],
   "source": [
    "control_ready = lem_and_tok(control)\n",
    "len(control_ready)"
   ]
  },
  {
   "cell_type": "code",
   "execution_count": 18,
   "id": "823d9d4e",
   "metadata": {},
   "outputs": [
    {
     "name": "stdout",
     "output_type": "stream",
     "text": [
      "195\n"
     ]
    }
   ],
   "source": [
    "with open(\"C:/Users/Ольга/Desktop/радость.txt\", encoding='utf-8') as f:\n",
    "    good = f.read()\n",
    "    good = good.split(sep=',')\n",
    "    \n",
    "print(len(good))"
   ]
  },
  {
   "cell_type": "code",
   "execution_count": 19,
   "id": "2e23b1bf",
   "metadata": {},
   "outputs": [
    {
     "name": "stdout",
     "output_type": "stream",
     "text": [
      "160\n"
     ]
    }
   ],
   "source": [
    "with open(\"C:/Users/Ольга/Desktop/печаль.txt\", encoding='utf-8') as f:\n",
    "    bad = f.read()\n",
    "    bad = bad.split(sep=',')\n",
    "print(len(bad))"
   ]
  },
  {
   "cell_type": "code",
   "execution_count": 699,
   "id": "2a7d144f",
   "metadata": {},
   "outputs": [],
   "source": [
    "def calculate(file):\n",
    "    percent_good = []\n",
    "    percent_bad = []\n",
    "    for elem in file:\n",
    "        if elem in good:\n",
    "            percent_good.append(elem)\n",
    "        elif elem in bad:\n",
    "            percent_bad.append(elem)\n",
    "\n",
    "    per_cent_good = len(percent_good) / len(file) * 100\n",
    "    per_cent_bad = len(percent_bad) / len(file) * 100\n",
    "    return (f\"\"\"percent of positive vocabulary is {round(per_cent_good)}%, amount: {len(percent_good)}, \n",
    "           percent of negative vocabulary is {round(per_cent_bad)}%, amount: {len(percent_bad)}\"\"\")"
   ]
  },
  {
   "cell_type": "code",
   "execution_count": 700,
   "id": "99b9f90b",
   "metadata": {},
   "outputs": [
    {
     "name": "stdout",
     "output_type": "stream",
     "text": [
      "Patients: percent of positive vocabulary is 4%, amount: 64, \n",
      "           percent of negative vocabulary is 2%, amount: 27\n"
     ]
    }
   ],
   "source": [
    "print('Patients:', calculate(patients_ready))"
   ]
  },
  {
   "cell_type": "code",
   "execution_count": 701,
   "id": "755ab970",
   "metadata": {},
   "outputs": [
    {
     "name": "stdout",
     "output_type": "stream",
     "text": [
      "Control group: percent of positive vocabulary is 4%, amount: 337, \n",
      "           percent of negative vocabulary is 0%, amount: 22\n"
     ]
    }
   ],
   "source": [
    "print('Control group:', calculate(control_ready))"
   ]
  },
  {
   "cell_type": "markdown",
   "id": "9c29ac3c",
   "metadata": {},
   "source": [
    "# FOR EVERY PERSON"
   ]
  },
  {
   "cell_type": "code",
   "execution_count": 736,
   "id": "fc396fb8",
   "metadata": {},
   "outputs": [],
   "source": [
    "path = \"D:/patients\"\n",
    "\n",
    "glob_path = os.path.join(path, pattern)\n",
    "list_files = glob.glob(glob_path)\n",
    "new_file = 'patient_model.txt'\n",
    "\n",
    "if list_files:\n",
    "    with fileinput.FileInput(files=list_files) as fr, open(new_file, 'w') as fw:\n",
    "        for line in fr:\n",
    "            fw.write(line)\n",
    "            fw.write(\",\")"
   ]
  },
  {
   "cell_type": "code",
   "execution_count": 12,
   "id": "bcb8620d",
   "metadata": {},
   "outputs": [],
   "source": [
    "with open(\"C:/Users/Ольга/patient_model.txt\", encoding='utf-8') as f:\n",
    "    patients_m = f.read()\n",
    "    patients_m = patients_m.split(sep=',')"
   ]
  },
  {
   "cell_type": "code",
   "execution_count": 720,
   "id": "0dfa9e5d",
   "metadata": {},
   "outputs": [],
   "source": [
    "path = \"D:/control group\"\n",
    "\n",
    "glob_path = os.path.join(path, pattern)\n",
    "list_files = glob.glob(glob_path)\n",
    "new_file = 'control_model.txt'\n",
    "\n",
    "if list_files:\n",
    "    with fileinput.FileInput(files=list_files) as fr, open(new_file, 'w') as fw:\n",
    "        for line in fr:\n",
    "            fw.write(line)\n",
    "            fw.write(\",\")"
   ]
  },
  {
   "cell_type": "code",
   "execution_count": 13,
   "id": "ecf72798",
   "metadata": {},
   "outputs": [],
   "source": [
    "with open(\"C:/Users/Ольга/control_model.txt\", encoding='utf-8') as f:\n",
    "    control_m = f.read()\n",
    "    control_m = control_m.split(sep=',')"
   ]
  },
  {
   "cell_type": "code",
   "execution_count": 16,
   "id": "b2fac401",
   "metadata": {},
   "outputs": [],
   "source": [
    "def calculate_1(file):\n",
    "    percent_good = []\n",
    "    percent_bad = []\n",
    "    for elem in file:\n",
    "        if elem in good:\n",
    "            percent_good.append(elem)\n",
    "        elif elem in bad:\n",
    "            percent_bad.append(elem)\n",
    "\n",
    "    per_cent_good = len(percent_good) / len(file) * 100\n",
    "    per_cent_bad = len(percent_bad) / len(file) * 100\n",
    "    return round(per_cent_good, 2), round(per_cent_bad, 2)"
   ]
  },
  {
   "cell_type": "code",
   "execution_count": 20,
   "id": "937df1e3",
   "metadata": {},
   "outputs": [],
   "source": [
    "pos_patients = []\n",
    "neg_patients = []\n",
    "for elem in patients_m:\n",
    "    a, b = calculate_1(elem.split(sep=' '))\n",
    "    pos_patients.append(a)\n",
    "    neg_patients.append(b)"
   ]
  },
  {
   "cell_type": "code",
   "execution_count": 21,
   "id": "0fffc691",
   "metadata": {},
   "outputs": [],
   "source": [
    "pos_conrol = []\n",
    "neg_conrol = []\n",
    "for elem in control_m:\n",
    "    a, b = calculate_1(elem.split(sep=' '))\n",
    "    pos_conrol.append(a)\n",
    "    neg_conrol.append(b)"
   ]
  },
  {
   "cell_type": "markdown",
   "id": "16b2f499",
   "metadata": {},
   "source": [
    "# DATA"
   ]
  },
  {
   "cell_type": "code",
   "execution_count": 22,
   "id": "ee7b5779",
   "metadata": {},
   "outputs": [],
   "source": [
    "from sklearn.model_selection import train_test_split, cross_val_score, GridSearchCV\n",
    "from sklearn.ensemble import RandomForestClassifier\n",
    "from sklearn.metrics import accuracy_score, precision_score, recall_score, confusion_matrix\n",
    "from sklearn.linear_model import LogisticRegression"
   ]
  },
  {
   "cell_type": "code",
   "execution_count": 23,
   "id": "8022be96",
   "metadata": {},
   "outputs": [
    {
     "data": {
      "text/html": [
       "<div>\n",
       "<style scoped>\n",
       "    .dataframe tbody tr th:only-of-type {\n",
       "        vertical-align: middle;\n",
       "    }\n",
       "\n",
       "    .dataframe tbody tr th {\n",
       "        vertical-align: top;\n",
       "    }\n",
       "\n",
       "    .dataframe thead th {\n",
       "        text-align: right;\n",
       "    }\n",
       "</style>\n",
       "<table border=\"1\" class=\"dataframe\">\n",
       "  <thead>\n",
       "    <tr style=\"text-align: right;\">\n",
       "      <th></th>\n",
       "      <th>age</th>\n",
       "      <th>years of education</th>\n",
       "      <th>errors</th>\n",
       "      <th>...=</th>\n",
       "      <th>...*</th>\n",
       "      <th>positive voc</th>\n",
       "      <th>negative voc</th>\n",
       "      <th>group</th>\n",
       "      <th>sex_male</th>\n",
       "      <th>education_higher.unfinished</th>\n",
       "      <th>education_secondary</th>\n",
       "      <th>education_vocational</th>\n",
       "      <th>education_vocational.unfinished</th>\n",
       "      <th>education_ученая степень</th>\n",
       "    </tr>\n",
       "  </thead>\n",
       "  <tbody>\n",
       "    <tr>\n",
       "      <th>0</th>\n",
       "      <td>36</td>\n",
       "      <td>17</td>\n",
       "      <td>0</td>\n",
       "      <td>0</td>\n",
       "      <td>0</td>\n",
       "      <td>3.03</td>\n",
       "      <td>0.0</td>\n",
       "      <td>1</td>\n",
       "      <td>0</td>\n",
       "      <td>0</td>\n",
       "      <td>0</td>\n",
       "      <td>0</td>\n",
       "      <td>0</td>\n",
       "      <td>0</td>\n",
       "    </tr>\n",
       "    <tr>\n",
       "      <th>1</th>\n",
       "      <td>27</td>\n",
       "      <td>18</td>\n",
       "      <td>0</td>\n",
       "      <td>0</td>\n",
       "      <td>0</td>\n",
       "      <td>0.00</td>\n",
       "      <td>0.0</td>\n",
       "      <td>1</td>\n",
       "      <td>0</td>\n",
       "      <td>0</td>\n",
       "      <td>0</td>\n",
       "      <td>0</td>\n",
       "      <td>0</td>\n",
       "      <td>0</td>\n",
       "    </tr>\n",
       "    <tr>\n",
       "      <th>2</th>\n",
       "      <td>20</td>\n",
       "      <td>14</td>\n",
       "      <td>0</td>\n",
       "      <td>0</td>\n",
       "      <td>0</td>\n",
       "      <td>0.00</td>\n",
       "      <td>0.0</td>\n",
       "      <td>1</td>\n",
       "      <td>1</td>\n",
       "      <td>0</td>\n",
       "      <td>0</td>\n",
       "      <td>0</td>\n",
       "      <td>0</td>\n",
       "      <td>0</td>\n",
       "    </tr>\n",
       "    <tr>\n",
       "      <th>3</th>\n",
       "      <td>21</td>\n",
       "      <td>14</td>\n",
       "      <td>1</td>\n",
       "      <td>0</td>\n",
       "      <td>1</td>\n",
       "      <td>9.09</td>\n",
       "      <td>0.0</td>\n",
       "      <td>1</td>\n",
       "      <td>0</td>\n",
       "      <td>0</td>\n",
       "      <td>0</td>\n",
       "      <td>0</td>\n",
       "      <td>0</td>\n",
       "      <td>0</td>\n",
       "    </tr>\n",
       "    <tr>\n",
       "      <th>4</th>\n",
       "      <td>25</td>\n",
       "      <td>18</td>\n",
       "      <td>0</td>\n",
       "      <td>0</td>\n",
       "      <td>0</td>\n",
       "      <td>0.00</td>\n",
       "      <td>0.0</td>\n",
       "      <td>1</td>\n",
       "      <td>1</td>\n",
       "      <td>0</td>\n",
       "      <td>0</td>\n",
       "      <td>0</td>\n",
       "      <td>0</td>\n",
       "      <td>0</td>\n",
       "    </tr>\n",
       "  </tbody>\n",
       "</table>\n",
       "</div>"
      ],
      "text/plain": [
       "   age  years of education  errors  ...=  ...*  positive voc  negative voc  \\\n",
       "0   36                  17       0     0     0          3.03           0.0   \n",
       "1   27                  18       0     0     0          0.00           0.0   \n",
       "2   20                  14       0     0     0          0.00           0.0   \n",
       "3   21                  14       1     0     1          9.09           0.0   \n",
       "4   25                  18       0     0     0          0.00           0.0   \n",
       "\n",
       "   group  sex_male  education_higher.unfinished  education_secondary  \\\n",
       "0      1         0                            0                    0   \n",
       "1      1         0                            0                    0   \n",
       "2      1         1                            0                    0   \n",
       "3      1         0                            0                    0   \n",
       "4      1         1                            0                    0   \n",
       "\n",
       "   education_vocational  education_vocational.unfinished  \\\n",
       "0                     0                                0   \n",
       "1                     0                                0   \n",
       "2                     0                                0   \n",
       "3                     0                                0   \n",
       "4                     0                                0   \n",
       "\n",
       "   education_ученая степень  \n",
       "0                         0  \n",
       "1                         0  \n",
       "2                         0  \n",
       "3                         0  \n",
       "4                         0  "
      ]
     },
     "execution_count": 23,
     "metadata": {},
     "output_type": "execute_result"
    }
   ],
   "source": [
    "data = pd.read_csv(\"C:/Users/Ольга/Desktop/contol_group  - errors.csv\")\n",
    "\n",
    "data['positive voc'] = pos_patients + pos_conrol\n",
    "data['negative voc'] = neg_patients + neg_conrol\n",
    "\n",
    "diag = []\n",
    "for elem in data['group']:\n",
    "    diag.append(1) if elem == 'control' else diag.append(0)\n",
    "\n",
    "data = data.drop(['ID', 'group', 'group1', 'diagnosis'], axis=1)\n",
    "\n",
    "data['group'] = diag\n",
    "\n",
    "data = pd.get_dummies(data, drop_first=True)\n",
    "data.head()\n",
    "\n",
    "data.head()"
   ]
  },
  {
   "cell_type": "code",
   "execution_count": 24,
   "id": "6dc2f5ee",
   "metadata": {},
   "outputs": [
    {
     "data": {
      "text/html": [
       "<div>\n",
       "<style scoped>\n",
       "    .dataframe tbody tr th:only-of-type {\n",
       "        vertical-align: middle;\n",
       "    }\n",
       "\n",
       "    .dataframe tbody tr th {\n",
       "        vertical-align: top;\n",
       "    }\n",
       "\n",
       "    .dataframe thead th {\n",
       "        text-align: right;\n",
       "    }\n",
       "</style>\n",
       "<table border=\"1\" class=\"dataframe\">\n",
       "  <thead>\n",
       "    <tr style=\"text-align: right;\">\n",
       "      <th></th>\n",
       "      <th>age</th>\n",
       "      <th>years of education</th>\n",
       "      <th>errors</th>\n",
       "      <th>...=</th>\n",
       "      <th>...*</th>\n",
       "      <th>positive voc</th>\n",
       "      <th>negative voc</th>\n",
       "      <th>group</th>\n",
       "      <th>sex_male</th>\n",
       "      <th>education_higher.unfinished</th>\n",
       "      <th>education_secondary</th>\n",
       "      <th>education_vocational</th>\n",
       "      <th>education_vocational.unfinished</th>\n",
       "      <th>education_ученая степень</th>\n",
       "    </tr>\n",
       "  </thead>\n",
       "  <tbody>\n",
       "    <tr>\n",
       "      <th>age</th>\n",
       "      <td>1.000000</td>\n",
       "      <td>0.401527</td>\n",
       "      <td>-0.010060</td>\n",
       "      <td>0.031253</td>\n",
       "      <td>-0.079723</td>\n",
       "      <td>-0.005431</td>\n",
       "      <td>-0.138017</td>\n",
       "      <td>0.217570</td>\n",
       "      <td>0.096716</td>\n",
       "      <td>-0.262900</td>\n",
       "      <td>-0.175465</td>\n",
       "      <td>0.035411</td>\n",
       "      <td>-0.206103</td>\n",
       "      <td>0.097678</td>\n",
       "    </tr>\n",
       "    <tr>\n",
       "      <th>years of education</th>\n",
       "      <td>0.401527</td>\n",
       "      <td>1.000000</td>\n",
       "      <td>-0.070644</td>\n",
       "      <td>-0.044896</td>\n",
       "      <td>-0.082554</td>\n",
       "      <td>0.075796</td>\n",
       "      <td>-0.080558</td>\n",
       "      <td>0.490711</td>\n",
       "      <td>-0.005892</td>\n",
       "      <td>-0.159539</td>\n",
       "      <td>-0.617406</td>\n",
       "      <td>-0.145793</td>\n",
       "      <td>-0.263816</td>\n",
       "      <td>0.306703</td>\n",
       "    </tr>\n",
       "    <tr>\n",
       "      <th>errors</th>\n",
       "      <td>-0.010060</td>\n",
       "      <td>-0.070644</td>\n",
       "      <td>1.000000</td>\n",
       "      <td>0.911591</td>\n",
       "      <td>0.670172</td>\n",
       "      <td>0.082198</td>\n",
       "      <td>-0.002785</td>\n",
       "      <td>-0.380058</td>\n",
       "      <td>0.044347</td>\n",
       "      <td>-0.030803</td>\n",
       "      <td>0.012980</td>\n",
       "      <td>0.001942</td>\n",
       "      <td>0.167003</td>\n",
       "      <td>0.032233</td>\n",
       "    </tr>\n",
       "    <tr>\n",
       "      <th>...=</th>\n",
       "      <td>0.031253</td>\n",
       "      <td>-0.044896</td>\n",
       "      <td>0.911591</td>\n",
       "      <td>1.000000</td>\n",
       "      <td>0.305803</td>\n",
       "      <td>0.055877</td>\n",
       "      <td>-0.006944</td>\n",
       "      <td>-0.412925</td>\n",
       "      <td>-0.012300</td>\n",
       "      <td>-0.059980</td>\n",
       "      <td>-0.001514</td>\n",
       "      <td>0.007473</td>\n",
       "      <td>0.134517</td>\n",
       "      <td>0.021371</td>\n",
       "    </tr>\n",
       "    <tr>\n",
       "      <th>...*</th>\n",
       "      <td>-0.079723</td>\n",
       "      <td>-0.082554</td>\n",
       "      <td>0.670172</td>\n",
       "      <td>0.305803</td>\n",
       "      <td>1.000000</td>\n",
       "      <td>0.089487</td>\n",
       "      <td>0.006086</td>\n",
       "      <td>-0.134702</td>\n",
       "      <td>0.124913</td>\n",
       "      <td>0.036950</td>\n",
       "      <td>0.032794</td>\n",
       "      <td>-0.008995</td>\n",
       "      <td>0.143917</td>\n",
       "      <td>0.036067</td>\n",
       "    </tr>\n",
       "    <tr>\n",
       "      <th>positive voc</th>\n",
       "      <td>-0.005431</td>\n",
       "      <td>0.075796</td>\n",
       "      <td>0.082198</td>\n",
       "      <td>0.055877</td>\n",
       "      <td>0.089487</td>\n",
       "      <td>1.000000</td>\n",
       "      <td>-0.030746</td>\n",
       "      <td>0.057569</td>\n",
       "      <td>-0.040067</td>\n",
       "      <td>0.033504</td>\n",
       "      <td>-0.088469</td>\n",
       "      <td>0.076512</td>\n",
       "      <td>-0.027768</td>\n",
       "      <td>0.032694</td>\n",
       "    </tr>\n",
       "    <tr>\n",
       "      <th>negative voc</th>\n",
       "      <td>-0.138017</td>\n",
       "      <td>-0.080558</td>\n",
       "      <td>-0.002785</td>\n",
       "      <td>-0.006944</td>\n",
       "      <td>0.006086</td>\n",
       "      <td>-0.030746</td>\n",
       "      <td>1.000000</td>\n",
       "      <td>0.082948</td>\n",
       "      <td>-0.142237</td>\n",
       "      <td>-0.037327</td>\n",
       "      <td>-0.112333</td>\n",
       "      <td>-0.066566</td>\n",
       "      <td>0.104408</td>\n",
       "      <td>-0.068011</td>\n",
       "    </tr>\n",
       "    <tr>\n",
       "      <th>group</th>\n",
       "      <td>0.217570</td>\n",
       "      <td>0.490711</td>\n",
       "      <td>-0.380058</td>\n",
       "      <td>-0.412925</td>\n",
       "      <td>-0.134702</td>\n",
       "      <td>0.057569</td>\n",
       "      <td>0.082948</td>\n",
       "      <td>1.000000</td>\n",
       "      <td>0.105294</td>\n",
       "      <td>0.073511</td>\n",
       "      <td>-0.310517</td>\n",
       "      <td>-0.073771</td>\n",
       "      <td>-0.387298</td>\n",
       "      <td>0.120386</td>\n",
       "    </tr>\n",
       "    <tr>\n",
       "      <th>sex_male</th>\n",
       "      <td>0.096716</td>\n",
       "      <td>-0.005892</td>\n",
       "      <td>0.044347</td>\n",
       "      <td>-0.012300</td>\n",
       "      <td>0.124913</td>\n",
       "      <td>-0.040067</td>\n",
       "      <td>-0.142237</td>\n",
       "      <td>0.105294</td>\n",
       "      <td>1.000000</td>\n",
       "      <td>0.182002</td>\n",
       "      <td>0.156269</td>\n",
       "      <td>-0.115728</td>\n",
       "      <td>-0.115728</td>\n",
       "      <td>0.158277</td>\n",
       "    </tr>\n",
       "    <tr>\n",
       "      <th>education_higher.unfinished</th>\n",
       "      <td>-0.262900</td>\n",
       "      <td>-0.159539</td>\n",
       "      <td>-0.030803</td>\n",
       "      <td>-0.059980</td>\n",
       "      <td>0.036950</td>\n",
       "      <td>0.033504</td>\n",
       "      <td>-0.037327</td>\n",
       "      <td>0.073511</td>\n",
       "      <td>0.182002</td>\n",
       "      <td>1.000000</td>\n",
       "      <td>-0.200805</td>\n",
       "      <td>-0.132186</td>\n",
       "      <td>-0.132186</td>\n",
       "      <td>-0.098611</td>\n",
       "    </tr>\n",
       "    <tr>\n",
       "      <th>education_secondary</th>\n",
       "      <td>-0.175465</td>\n",
       "      <td>-0.617406</td>\n",
       "      <td>0.012980</td>\n",
       "      <td>-0.001514</td>\n",
       "      <td>0.032794</td>\n",
       "      <td>-0.088469</td>\n",
       "      <td>-0.112333</td>\n",
       "      <td>-0.310517</td>\n",
       "      <td>0.156269</td>\n",
       "      <td>-0.200805</td>\n",
       "      <td>1.000000</td>\n",
       "      <td>-0.094944</td>\n",
       "      <td>-0.094944</td>\n",
       "      <td>-0.070829</td>\n",
       "    </tr>\n",
       "    <tr>\n",
       "      <th>education_vocational</th>\n",
       "      <td>0.035411</td>\n",
       "      <td>-0.145793</td>\n",
       "      <td>0.001942</td>\n",
       "      <td>0.007473</td>\n",
       "      <td>-0.008995</td>\n",
       "      <td>0.076512</td>\n",
       "      <td>-0.066566</td>\n",
       "      <td>-0.073771</td>\n",
       "      <td>-0.115728</td>\n",
       "      <td>-0.132186</td>\n",
       "      <td>-0.094944</td>\n",
       "      <td>1.000000</td>\n",
       "      <td>-0.062500</td>\n",
       "      <td>-0.046625</td>\n",
       "    </tr>\n",
       "    <tr>\n",
       "      <th>education_vocational.unfinished</th>\n",
       "      <td>-0.206103</td>\n",
       "      <td>-0.263816</td>\n",
       "      <td>0.167003</td>\n",
       "      <td>0.134517</td>\n",
       "      <td>0.143917</td>\n",
       "      <td>-0.027768</td>\n",
       "      <td>0.104408</td>\n",
       "      <td>-0.387298</td>\n",
       "      <td>-0.115728</td>\n",
       "      <td>-0.132186</td>\n",
       "      <td>-0.094944</td>\n",
       "      <td>-0.062500</td>\n",
       "      <td>1.000000</td>\n",
       "      <td>-0.046625</td>\n",
       "    </tr>\n",
       "    <tr>\n",
       "      <th>education_ученая степень</th>\n",
       "      <td>0.097678</td>\n",
       "      <td>0.306703</td>\n",
       "      <td>0.032233</td>\n",
       "      <td>0.021371</td>\n",
       "      <td>0.036067</td>\n",
       "      <td>0.032694</td>\n",
       "      <td>-0.068011</td>\n",
       "      <td>0.120386</td>\n",
       "      <td>0.158277</td>\n",
       "      <td>-0.098611</td>\n",
       "      <td>-0.070829</td>\n",
       "      <td>-0.046625</td>\n",
       "      <td>-0.046625</td>\n",
       "      <td>1.000000</td>\n",
       "    </tr>\n",
       "  </tbody>\n",
       "</table>\n",
       "</div>"
      ],
      "text/plain": [
       "                                      age  years of education    errors  \\\n",
       "age                              1.000000            0.401527 -0.010060   \n",
       "years of education               0.401527            1.000000 -0.070644   \n",
       "errors                          -0.010060           -0.070644  1.000000   \n",
       "...=                             0.031253           -0.044896  0.911591   \n",
       "...*                            -0.079723           -0.082554  0.670172   \n",
       "positive voc                    -0.005431            0.075796  0.082198   \n",
       "negative voc                    -0.138017           -0.080558 -0.002785   \n",
       "group                            0.217570            0.490711 -0.380058   \n",
       "sex_male                         0.096716           -0.005892  0.044347   \n",
       "education_higher.unfinished     -0.262900           -0.159539 -0.030803   \n",
       "education_secondary             -0.175465           -0.617406  0.012980   \n",
       "education_vocational             0.035411           -0.145793  0.001942   \n",
       "education_vocational.unfinished -0.206103           -0.263816  0.167003   \n",
       "education_ученая степень         0.097678            0.306703  0.032233   \n",
       "\n",
       "                                     ...=      ...*  positive voc  \\\n",
       "age                              0.031253 -0.079723     -0.005431   \n",
       "years of education              -0.044896 -0.082554      0.075796   \n",
       "errors                           0.911591  0.670172      0.082198   \n",
       "...=                             1.000000  0.305803      0.055877   \n",
       "...*                             0.305803  1.000000      0.089487   \n",
       "positive voc                     0.055877  0.089487      1.000000   \n",
       "negative voc                    -0.006944  0.006086     -0.030746   \n",
       "group                           -0.412925 -0.134702      0.057569   \n",
       "sex_male                        -0.012300  0.124913     -0.040067   \n",
       "education_higher.unfinished     -0.059980  0.036950      0.033504   \n",
       "education_secondary             -0.001514  0.032794     -0.088469   \n",
       "education_vocational             0.007473 -0.008995      0.076512   \n",
       "education_vocational.unfinished  0.134517  0.143917     -0.027768   \n",
       "education_ученая степень         0.021371  0.036067      0.032694   \n",
       "\n",
       "                                 negative voc     group  sex_male  \\\n",
       "age                                 -0.138017  0.217570  0.096716   \n",
       "years of education                  -0.080558  0.490711 -0.005892   \n",
       "errors                              -0.002785 -0.380058  0.044347   \n",
       "...=                                -0.006944 -0.412925 -0.012300   \n",
       "...*                                 0.006086 -0.134702  0.124913   \n",
       "positive voc                        -0.030746  0.057569 -0.040067   \n",
       "negative voc                         1.000000  0.082948 -0.142237   \n",
       "group                                0.082948  1.000000  0.105294   \n",
       "sex_male                            -0.142237  0.105294  1.000000   \n",
       "education_higher.unfinished         -0.037327  0.073511  0.182002   \n",
       "education_secondary                 -0.112333 -0.310517  0.156269   \n",
       "education_vocational                -0.066566 -0.073771 -0.115728   \n",
       "education_vocational.unfinished      0.104408 -0.387298 -0.115728   \n",
       "education_ученая степень            -0.068011  0.120386  0.158277   \n",
       "\n",
       "                                 education_higher.unfinished  \\\n",
       "age                                                -0.262900   \n",
       "years of education                                 -0.159539   \n",
       "errors                                             -0.030803   \n",
       "...=                                               -0.059980   \n",
       "...*                                                0.036950   \n",
       "positive voc                                        0.033504   \n",
       "negative voc                                       -0.037327   \n",
       "group                                               0.073511   \n",
       "sex_male                                            0.182002   \n",
       "education_higher.unfinished                         1.000000   \n",
       "education_secondary                                -0.200805   \n",
       "education_vocational                               -0.132186   \n",
       "education_vocational.unfinished                    -0.132186   \n",
       "education_ученая степень                           -0.098611   \n",
       "\n",
       "                                 education_secondary  education_vocational  \\\n",
       "age                                        -0.175465              0.035411   \n",
       "years of education                         -0.617406             -0.145793   \n",
       "errors                                      0.012980              0.001942   \n",
       "...=                                       -0.001514              0.007473   \n",
       "...*                                        0.032794             -0.008995   \n",
       "positive voc                               -0.088469              0.076512   \n",
       "negative voc                               -0.112333             -0.066566   \n",
       "group                                      -0.310517             -0.073771   \n",
       "sex_male                                    0.156269             -0.115728   \n",
       "education_higher.unfinished                -0.200805             -0.132186   \n",
       "education_secondary                         1.000000             -0.094944   \n",
       "education_vocational                       -0.094944              1.000000   \n",
       "education_vocational.unfinished            -0.094944             -0.062500   \n",
       "education_ученая степень                   -0.070829             -0.046625   \n",
       "\n",
       "                                 education_vocational.unfinished  \\\n",
       "age                                                    -0.206103   \n",
       "years of education                                     -0.263816   \n",
       "errors                                                  0.167003   \n",
       "...=                                                    0.134517   \n",
       "...*                                                    0.143917   \n",
       "positive voc                                           -0.027768   \n",
       "negative voc                                            0.104408   \n",
       "group                                                  -0.387298   \n",
       "sex_male                                               -0.115728   \n",
       "education_higher.unfinished                            -0.132186   \n",
       "education_secondary                                    -0.094944   \n",
       "education_vocational                                   -0.062500   \n",
       "education_vocational.unfinished                         1.000000   \n",
       "education_ученая степень                               -0.046625   \n",
       "\n",
       "                                 education_ученая степень  \n",
       "age                                              0.097678  \n",
       "years of education                               0.306703  \n",
       "errors                                           0.032233  \n",
       "...=                                             0.021371  \n",
       "...*                                             0.036067  \n",
       "positive voc                                     0.032694  \n",
       "negative voc                                    -0.068011  \n",
       "group                                            0.120386  \n",
       "sex_male                                         0.158277  \n",
       "education_higher.unfinished                     -0.098611  \n",
       "education_secondary                             -0.070829  \n",
       "education_vocational                            -0.046625  \n",
       "education_vocational.unfinished                 -0.046625  \n",
       "education_ученая степень                         1.000000  "
      ]
     },
     "execution_count": 24,
     "metadata": {},
     "output_type": "execute_result"
    }
   ],
   "source": [
    "data.corr()"
   ]
  },
  {
   "cell_type": "markdown",
   "id": "55be4bff",
   "metadata": {},
   "source": [
    "# TRAIN/TEST"
   ]
  },
  {
   "cell_type": "code",
   "execution_count": 25,
   "id": "77d2de14",
   "metadata": {},
   "outputs": [],
   "source": [
    "from sklearn.model_selection import train_test_split, cross_val_score, GridSearchCV\n",
    "from sklearn. model_selection import LeaveOneOut\n",
    "from sklearn. model_selection import cross_val_score\n",
    "from numpy import mean"
   ]
  },
  {
   "cell_type": "code",
   "execution_count": 37,
   "id": "5087a139",
   "metadata": {},
   "outputs": [],
   "source": [
    "X = data.drop('group', axis=1) \n",
    "y = data['group']\n",
    "\n",
    "X_train, X_test, y_train, y_test = train_test_split(X, y, test_size=0.4, random_state=0)\n",
    "X_test, X_val, y_test, y_val = train_test_split(X_test, y_test, test_size=0.5, random_state=0)"
   ]
  },
  {
   "cell_type": "code",
   "execution_count": 38,
   "id": "6af64d95",
   "metadata": {},
   "outputs": [
    {
     "name": "stdout",
     "output_type": "stream",
     "text": [
      "71 24\n"
     ]
    }
   ],
   "source": [
    "print(len(X_train), len(y_val))"
   ]
  },
  {
   "cell_type": "markdown",
   "id": "66456f95",
   "metadata": {},
   "source": [
    "# LOG REGRESSION"
   ]
  },
  {
   "cell_type": "code",
   "execution_count": 28,
   "id": "e20bdc87",
   "metadata": {},
   "outputs": [],
   "source": [
    "cv = LeaveOneOut()"
   ]
  },
  {
   "cell_type": "code",
   "execution_count": 29,
   "id": "fb847655",
   "metadata": {},
   "outputs": [],
   "source": [
    "log_reg = LogisticRegression(max_iter=10000)"
   ]
  },
  {
   "cell_type": "code",
   "execution_count": 30,
   "id": "a3c05196",
   "metadata": {},
   "outputs": [
    {
     "name": "stdout",
     "output_type": "stream",
     "text": [
      "Precision: 0.6470588235294118, recall: 0.6470588235294118, accuracy: 0.8403361344537815\n"
     ]
    }
   ],
   "source": [
    "precision = cross_val_score(log_reg, X, y, scoring='precision',\n",
    " cv=cv, n_jobs=-1)\n",
    "\n",
    "recall = cross_val_score(log_reg, X, y, scoring='recall',\n",
    " cv=cv, n_jobs=-1)\n",
    "\n",
    "accuracy = cross_val_score(log_reg, X, y, scoring='accuracy',\n",
    " cv=cv, n_jobs=-1)\n",
    "\n",
    "print(f'Precision: {mean(precision)}, recall: {mean(recall)}, accuracy: {mean(accuracy)}')"
   ]
  },
  {
   "cell_type": "markdown",
   "id": "9a656235",
   "metadata": {},
   "source": [
    "# RandomForestClassifier"
   ]
  },
  {
   "cell_type": "code",
   "execution_count": 31,
   "id": "c05fa03f",
   "metadata": {},
   "outputs": [],
   "source": [
    "rf = RandomForestClassifier()\n",
    "cv1 = LeaveOneOut()"
   ]
  },
  {
   "cell_type": "code",
   "execution_count": 39,
   "id": "9a04f664",
   "metadata": {},
   "outputs": [
    {
     "data": {
      "text/html": [
       "<style>#sk-container-id-1 {color: black;background-color: white;}#sk-container-id-1 pre{padding: 0;}#sk-container-id-1 div.sk-toggleable {background-color: white;}#sk-container-id-1 label.sk-toggleable__label {cursor: pointer;display: block;width: 100%;margin-bottom: 0;padding: 0.3em;box-sizing: border-box;text-align: center;}#sk-container-id-1 label.sk-toggleable__label-arrow:before {content: \"▸\";float: left;margin-right: 0.25em;color: #696969;}#sk-container-id-1 label.sk-toggleable__label-arrow:hover:before {color: black;}#sk-container-id-1 div.sk-estimator:hover label.sk-toggleable__label-arrow:before {color: black;}#sk-container-id-1 div.sk-toggleable__content {max-height: 0;max-width: 0;overflow: hidden;text-align: left;background-color: #f0f8ff;}#sk-container-id-1 div.sk-toggleable__content pre {margin: 0.2em;color: black;border-radius: 0.25em;background-color: #f0f8ff;}#sk-container-id-1 input.sk-toggleable__control:checked~div.sk-toggleable__content {max-height: 200px;max-width: 100%;overflow: auto;}#sk-container-id-1 input.sk-toggleable__control:checked~label.sk-toggleable__label-arrow:before {content: \"▾\";}#sk-container-id-1 div.sk-estimator input.sk-toggleable__control:checked~label.sk-toggleable__label {background-color: #d4ebff;}#sk-container-id-1 div.sk-label input.sk-toggleable__control:checked~label.sk-toggleable__label {background-color: #d4ebff;}#sk-container-id-1 input.sk-hidden--visually {border: 0;clip: rect(1px 1px 1px 1px);clip: rect(1px, 1px, 1px, 1px);height: 1px;margin: -1px;overflow: hidden;padding: 0;position: absolute;width: 1px;}#sk-container-id-1 div.sk-estimator {font-family: monospace;background-color: #f0f8ff;border: 1px dotted black;border-radius: 0.25em;box-sizing: border-box;margin-bottom: 0.5em;}#sk-container-id-1 div.sk-estimator:hover {background-color: #d4ebff;}#sk-container-id-1 div.sk-parallel-item::after {content: \"\";width: 100%;border-bottom: 1px solid gray;flex-grow: 1;}#sk-container-id-1 div.sk-label:hover label.sk-toggleable__label {background-color: #d4ebff;}#sk-container-id-1 div.sk-serial::before {content: \"\";position: absolute;border-left: 1px solid gray;box-sizing: border-box;top: 0;bottom: 0;left: 50%;z-index: 0;}#sk-container-id-1 div.sk-serial {display: flex;flex-direction: column;align-items: center;background-color: white;padding-right: 0.2em;padding-left: 0.2em;position: relative;}#sk-container-id-1 div.sk-item {position: relative;z-index: 1;}#sk-container-id-1 div.sk-parallel {display: flex;align-items: stretch;justify-content: center;background-color: white;position: relative;}#sk-container-id-1 div.sk-item::before, #sk-container-id-1 div.sk-parallel-item::before {content: \"\";position: absolute;border-left: 1px solid gray;box-sizing: border-box;top: 0;bottom: 0;left: 50%;z-index: -1;}#sk-container-id-1 div.sk-parallel-item {display: flex;flex-direction: column;z-index: 1;position: relative;background-color: white;}#sk-container-id-1 div.sk-parallel-item:first-child::after {align-self: flex-end;width: 50%;}#sk-container-id-1 div.sk-parallel-item:last-child::after {align-self: flex-start;width: 50%;}#sk-container-id-1 div.sk-parallel-item:only-child::after {width: 0;}#sk-container-id-1 div.sk-dashed-wrapped {border: 1px dashed gray;margin: 0 0.4em 0.5em 0.4em;box-sizing: border-box;padding-bottom: 0.4em;background-color: white;}#sk-container-id-1 div.sk-label label {font-family: monospace;font-weight: bold;display: inline-block;line-height: 1.2em;}#sk-container-id-1 div.sk-label-container {text-align: center;}#sk-container-id-1 div.sk-container {/* jupyter's `normalize.less` sets `[hidden] { display: none; }` but bootstrap.min.css set `[hidden] { display: none !important; }` so we also need the `!important` here to be able to override the default hidden behavior on the sphinx rendered scikit-learn.org. See: https://github.com/scikit-learn/scikit-learn/issues/21755 */display: inline-block !important;position: relative;}#sk-container-id-1 div.sk-text-repr-fallback {display: none;}</style><div id=\"sk-container-id-1\" class=\"sk-top-container\"><div class=\"sk-text-repr-fallback\"><pre>GridSearchCV(cv=5, estimator=RandomForestClassifier(),\n",
       "             param_grid={&#x27;max_depth&#x27;: [6, 12, 24, 48, 96, None],\n",
       "                         &#x27;n_estimators&#x27;: [5, 25, 50, 100, 150, 200]})</pre><b>In a Jupyter environment, please rerun this cell to show the HTML representation or trust the notebook. <br />On GitHub, the HTML representation is unable to render, please try loading this page with nbviewer.org.</b></div><div class=\"sk-container\" hidden><div class=\"sk-item sk-dashed-wrapped\"><div class=\"sk-label-container\"><div class=\"sk-label sk-toggleable\"><input class=\"sk-toggleable__control sk-hidden--visually\" id=\"sk-estimator-id-1\" type=\"checkbox\" ><label for=\"sk-estimator-id-1\" class=\"sk-toggleable__label sk-toggleable__label-arrow\">GridSearchCV</label><div class=\"sk-toggleable__content\"><pre>GridSearchCV(cv=5, estimator=RandomForestClassifier(),\n",
       "             param_grid={&#x27;max_depth&#x27;: [6, 12, 24, 48, 96, None],\n",
       "                         &#x27;n_estimators&#x27;: [5, 25, 50, 100, 150, 200]})</pre></div></div></div><div class=\"sk-parallel\"><div class=\"sk-parallel-item\"><div class=\"sk-item\"><div class=\"sk-label-container\"><div class=\"sk-label sk-toggleable\"><input class=\"sk-toggleable__control sk-hidden--visually\" id=\"sk-estimator-id-2\" type=\"checkbox\" ><label for=\"sk-estimator-id-2\" class=\"sk-toggleable__label sk-toggleable__label-arrow\">estimator: RandomForestClassifier</label><div class=\"sk-toggleable__content\"><pre>RandomForestClassifier()</pre></div></div></div><div class=\"sk-serial\"><div class=\"sk-item\"><div class=\"sk-estimator sk-toggleable\"><input class=\"sk-toggleable__control sk-hidden--visually\" id=\"sk-estimator-id-3\" type=\"checkbox\" ><label for=\"sk-estimator-id-3\" class=\"sk-toggleable__label sk-toggleable__label-arrow\">RandomForestClassifier</label><div class=\"sk-toggleable__content\"><pre>RandomForestClassifier()</pre></div></div></div></div></div></div></div></div></div></div>"
      ],
      "text/plain": [
       "GridSearchCV(cv=5, estimator=RandomForestClassifier(),\n",
       "             param_grid={'max_depth': [6, 12, 24, 48, 96, None],\n",
       "                         'n_estimators': [5, 25, 50, 100, 150, 200]})"
      ]
     },
     "execution_count": 39,
     "metadata": {},
     "output_type": "execute_result"
    }
   ],
   "source": [
    "hyperparams = {\n",
    "    'n_estimators': [5, 25, 50, 100, 150, 200],\n",
    "    'max_depth': [6, 12, 24, 48, 96, None]\n",
    "}\n",
    "\n",
    "cross_val = GridSearchCV(rf, hyperparams, cv=5)\n",
    "cross_val.fit(X_train, y_train)"
   ]
  },
  {
   "cell_type": "code",
   "execution_count": 40,
   "id": "1b3baf13",
   "metadata": {},
   "outputs": [],
   "source": [
    "def results(results):\n",
    "    print(f'Optimal Hyperparams: {results.best_params_}')\n",
    "    means = results.cv_results_['mean_test_score']\n",
    "    stds = results.cv_results_['std_test_score']\n",
    "\n",
    "    for mean, std, params in zip(means, stds, results.cv_results_['params']):\n",
    "        print(f'Mean {round(mean, 3)}, Standart Deviation {round(std * 2, 3)} Hyperparameters {params}')"
   ]
  },
  {
   "cell_type": "code",
   "execution_count": 41,
   "id": "cfe7d6da",
   "metadata": {},
   "outputs": [
    {
     "name": "stdout",
     "output_type": "stream",
     "text": [
      "Optimal Hyperparams: {'max_depth': 6, 'n_estimators': 100}\n",
      "Mean 0.789, Standart Deviation 0.181 Hyperparameters {'max_depth': 6, 'n_estimators': 5}\n",
      "Mean 0.803, Standart Deviation 0.228 Hyperparameters {'max_depth': 6, 'n_estimators': 25}\n",
      "Mean 0.831, Standart Deviation 0.192 Hyperparameters {'max_depth': 6, 'n_estimators': 50}\n",
      "Mean 0.859, Standart Deviation 0.239 Hyperparameters {'max_depth': 6, 'n_estimators': 100}\n",
      "Mean 0.83, Standart Deviation 0.233 Hyperparameters {'max_depth': 6, 'n_estimators': 150}\n",
      "Mean 0.83, Standart Deviation 0.233 Hyperparameters {'max_depth': 6, 'n_estimators': 200}\n",
      "Mean 0.818, Standart Deviation 0.243 Hyperparameters {'max_depth': 12, 'n_estimators': 5}\n",
      "Mean 0.803, Standart Deviation 0.245 Hyperparameters {'max_depth': 12, 'n_estimators': 25}\n",
      "Mean 0.845, Standart Deviation 0.246 Hyperparameters {'max_depth': 12, 'n_estimators': 50}\n",
      "Mean 0.816, Standart Deviation 0.234 Hyperparameters {'max_depth': 12, 'n_estimators': 100}\n",
      "Mean 0.816, Standart Deviation 0.234 Hyperparameters {'max_depth': 12, 'n_estimators': 150}\n",
      "Mean 0.816, Standart Deviation 0.234 Hyperparameters {'max_depth': 12, 'n_estimators': 200}\n",
      "Mean 0.719, Standart Deviation 0.335 Hyperparameters {'max_depth': 24, 'n_estimators': 5}\n",
      "Mean 0.803, Standart Deviation 0.209 Hyperparameters {'max_depth': 24, 'n_estimators': 25}\n",
      "Mean 0.816, Standart Deviation 0.251 Hyperparameters {'max_depth': 24, 'n_estimators': 50}\n",
      "Mean 0.817, Standart Deviation 0.231 Hyperparameters {'max_depth': 24, 'n_estimators': 100}\n",
      "Mean 0.802, Standart Deviation 0.248 Hyperparameters {'max_depth': 24, 'n_estimators': 150}\n",
      "Mean 0.816, Standart Deviation 0.234 Hyperparameters {'max_depth': 24, 'n_estimators': 200}\n",
      "Mean 0.802, Standart Deviation 0.212 Hyperparameters {'max_depth': 48, 'n_estimators': 5}\n",
      "Mean 0.789, Standart Deviation 0.239 Hyperparameters {'max_depth': 48, 'n_estimators': 25}\n",
      "Mean 0.817, Standart Deviation 0.231 Hyperparameters {'max_depth': 48, 'n_estimators': 50}\n",
      "Mean 0.817, Standart Deviation 0.231 Hyperparameters {'max_depth': 48, 'n_estimators': 100}\n",
      "Mean 0.817, Standart Deviation 0.231 Hyperparameters {'max_depth': 48, 'n_estimators': 150}\n",
      "Mean 0.802, Standart Deviation 0.248 Hyperparameters {'max_depth': 48, 'n_estimators': 200}\n",
      "Mean 0.747, Standart Deviation 0.143 Hyperparameters {'max_depth': 96, 'n_estimators': 5}\n",
      "Mean 0.803, Standart Deviation 0.228 Hyperparameters {'max_depth': 96, 'n_estimators': 25}\n",
      "Mean 0.817, Standart Deviation 0.231 Hyperparameters {'max_depth': 96, 'n_estimators': 50}\n",
      "Mean 0.803, Standart Deviation 0.228 Hyperparameters {'max_depth': 96, 'n_estimators': 100}\n",
      "Mean 0.803, Standart Deviation 0.228 Hyperparameters {'max_depth': 96, 'n_estimators': 150}\n",
      "Mean 0.817, Standart Deviation 0.231 Hyperparameters {'max_depth': 96, 'n_estimators': 200}\n",
      "Mean 0.761, Standart Deviation 0.142 Hyperparameters {'max_depth': None, 'n_estimators': 5}\n",
      "Mean 0.817, Standart Deviation 0.231 Hyperparameters {'max_depth': None, 'n_estimators': 25}\n",
      "Mean 0.846, Standart Deviation 0.243 Hyperparameters {'max_depth': None, 'n_estimators': 50}\n",
      "Mean 0.789, Standart Deviation 0.239 Hyperparameters {'max_depth': None, 'n_estimators': 100}\n",
      "Mean 0.83, Standart Deviation 0.233 Hyperparameters {'max_depth': None, 'n_estimators': 150}\n",
      "Mean 0.816, Standart Deviation 0.234 Hyperparameters {'max_depth': None, 'n_estimators': 200}\n"
     ]
    }
   ],
   "source": [
    "results(cross_val)"
   ]
  },
  {
   "cell_type": "code",
   "execution_count": 42,
   "id": "3c983b52",
   "metadata": {},
   "outputs": [],
   "source": [
    "rf1 = RandomForestClassifier(n_estimators=100, max_depth=6)\n",
    "\n",
    "rf2 = RandomForestClassifier(n_estimators=50, max_depth=12)\n",
    "\n",
    "rf3 = RandomForestClassifier(n_estimators=50, max_depth=None)"
   ]
  },
  {
   "cell_type": "code",
   "execution_count": 43,
   "id": "70e7f21b",
   "metadata": {},
   "outputs": [],
   "source": [
    "cv1 = LeaveOneOut()"
   ]
  },
  {
   "cell_type": "code",
   "execution_count": 44,
   "id": "85660cd2",
   "metadata": {},
   "outputs": [
    {
     "name": "stdout",
     "output_type": "stream",
     "text": [
      "Precision: 0.6554621848739496, recall: 0.6386554621848739, accuracy: 0.8319327731092437\n",
      "Precision: 0.6470588235294118, recall: 0.6470588235294118, accuracy: 0.8487394957983193\n",
      "Precision: 0.6386554621848739, recall: 0.6386554621848739, accuracy: 0.8319327731092437\n"
     ]
    }
   ],
   "source": [
    "r = [rf1, rf2, rf3]\n",
    "\n",
    "for mdl in r:\n",
    "    precision = cross_val_score(mdl, X, y, scoring='precision', cv=cv1, n_jobs=-1)\n",
    "    recall = cross_val_score(mdl, X, y, scoring='recall', cv=cv1, n_jobs=-1)\n",
    "    accuracy = cross_val_score(mdl, X, y, scoring='accuracy', cv=cv1, n_jobs=-1)\n",
    "    print(f'Precision: {mean(precision)}, recall: {mean(recall)}, accuracy: {mean(accuracy)}')"
   ]
  },
  {
   "cell_type": "code",
   "execution_count": null,
   "id": "f007b356",
   "metadata": {},
   "outputs": [],
   "source": [
    "from imblearn.ensemble import BalancedRandomForestClassifier\n",
    "from sklearn.datasets import make_classification\n",
    ">>>\n",
    "X, y = make_classification(n_samples=1000, n_classes=3,\n",
    "                           n_informative=4, weights=[0.2, 0.3, 0.5],\n",
    "                           random_state=0)\n",
    "clf = BalancedRandomForestClassifier(max_depth=2, random_state=0)\n",
    "clf.fit(X, y)\n",
    "BalancedRandomForestClassifier(...)\n",
    "print(clf.feature_importances_)\n",
    "[...]\n",
    "print(clf.predict([[0, 0, 0, 0, 0, 0, 0, 0, 0, 0,\n",
    "                    0, 0, 0, 0, 0, 0, 0, 0, 0, 0]]))"
   ]
  },
  {
   "cell_type": "markdown",
   "id": "63cbbf78",
   "metadata": {},
   "source": [
    "# BalancedRandomForestClassifier"
   ]
  },
  {
   "cell_type": "code",
   "execution_count": 45,
   "id": "1554b193",
   "metadata": {},
   "outputs": [],
   "source": [
    "from imblearn.ensemble import BalancedRandomForestClassifier"
   ]
  },
  {
   "cell_type": "code",
   "execution_count": 46,
   "id": "af14aa3a",
   "metadata": {},
   "outputs": [],
   "source": [
    "cv2 = LeaveOneOut()"
   ]
  },
  {
   "cell_type": "code",
   "execution_count": 47,
   "id": "b1c8bf97",
   "metadata": {},
   "outputs": [],
   "source": [
    "brf1 = RandomForestClassifier(n_estimators=100, max_depth=6)\n",
    "\n",
    "brf2 = RandomForestClassifier(n_estimators=50, max_depth=12)\n",
    "\n",
    "brf3 = RandomForestClassifier(n_estimators=50, max_depth=None)"
   ]
  },
  {
   "cell_type": "code",
   "execution_count": 49,
   "id": "6ea83649",
   "metadata": {},
   "outputs": [
    {
     "name": "stdout",
     "output_type": "stream",
     "text": [
      "Precision: 0.6638655462184874, recall: 0.6638655462184874, accuracy: 0.8403361344537815\n",
      "Precision: 0.6386554621848739, recall: 0.6386554621848739, accuracy: 0.8403361344537815\n",
      "Precision: 0.6302521008403361, recall: 0.6386554621848739, accuracy: 0.8319327731092437\n"
     ]
    }
   ],
   "source": [
    "br = [brf1, brf2, brf3]\n",
    "\n",
    "for mdl in br:\n",
    "    precision = cross_val_score(mdl, X, y, scoring='precision', cv=cv2, n_jobs=-1)\n",
    "    recall = cross_val_score(mdl, X, y, scoring='recall', cv=cv2, n_jobs=-1)\n",
    "    accuracy = cross_val_score(mdl, X, y, scoring='accuracy', cv=cv2, n_jobs=-1)\n",
    "    print(f'Precision: {mean(precision)}, recall: {mean(recall)}, accuracy: {mean(accuracy)}')"
   ]
  }
 ],
 "metadata": {
  "kernelspec": {
   "display_name": "Python 3 (ipykernel)",
   "language": "python",
   "name": "python3"
  },
  "language_info": {
   "codemirror_mode": {
    "name": "ipython",
    "version": 3
   },
   "file_extension": ".py",
   "mimetype": "text/x-python",
   "name": "python",
   "nbconvert_exporter": "python",
   "pygments_lexer": "ipython3",
   "version": "3.10.0"
  }
 },
 "nbformat": 4,
 "nbformat_minor": 5
}
